{
 "cells": [
  {
   "cell_type": "code",
   "execution_count": 1,
   "metadata": {},
   "outputs": [],
   "source": [
    "# 二分查找 bisect"
   ]
  },
  {
   "cell_type": "code",
   "execution_count": 2,
   "metadata": {},
   "outputs": [
    {
     "name": "stdout",
     "output_type": "stream",
     "text": [
      "有序列表a:[1, 3, 4, 5, 7, 9, 20]\n"
     ]
    }
   ],
   "source": [
    "import bisect\n",
    "a = [1,3,4,5,7,9,20]\n",
    "print(\"有序列表a:{}\".format(a))"
   ]
  },
  {
   "cell_type": "code",
   "execution_count": 3,
   "metadata": {},
   "outputs": [
    {
     "name": "stdout",
     "output_type": "stream",
     "text": [
      "从左边最接近4的下标是:2\n",
      "从右边最接近4的下标是:3\n",
      "从右边最接近4的下标是:3\n"
     ]
    }
   ],
   "source": [
    "## 如果存在target，返回target的下标+1，如果不存在，返回最  比target小的最大值 / 比target大的最小值  的下标+1\n",
    "## 返回值可以作为插入点的下标\n",
    "target = 4\n",
    "print(\"从左边最接近{}的下标是:{}\".format(target, bisect.bisect_left(a, target)))\n",
    "print(\"从右边最接近{}的下标是:{}\".format(target, bisect.bisect_right(a, target)))\n",
    "print(\"从右边最接近{}的下标是:{}\".format(target, bisect.bisect(a, target)))"
   ]
  },
  {
   "cell_type": "code",
   "execution_count": 33,
   "metadata": {},
   "outputs": [
    {
     "data": {
      "text/plain": [
       "4"
      ]
     },
     "execution_count": 33,
     "metadata": {},
     "output_type": "execute_result"
    }
   ],
   "source": [
    "## lo代表起点，hi代表重点\n",
    "## 默认lo = 0, hi = len(b)\n",
    "b = [2,3,5,7,11,13,17,19]\n",
    "bisect.bisect_left(b, 10, lo=2, hi=5)"
   ]
  },
  {
   "cell_type": "code",
   "execution_count": 34,
   "metadata": {},
   "outputs": [
    {
     "name": "stdout",
     "output_type": "stream",
     "text": [
      "插入前[(1, 2), (2, 5), (4, 3)]\n",
      "插入位置 1\n",
      "插入后[(1, 2), (2, 4), (2, 5), (4, 3)]\n"
     ]
    }
   ],
   "source": [
    "## 二分插入\n",
    "### 插入二元组，默认key为前一个元素\n",
    "b = [(1,2), (2,5), (4,3)]\n",
    "i = bisect.bisect_left(b, (2,4))\n",
    "print(\"插入前{}\".format(b))\n",
    "b.insert(i, (2,4))\n",
    "print(\"插入位置 {}\".format(i))\n",
    "print(\"插入后{}\".format(b))"
   ]
  },
  {
   "cell_type": "code",
   "execution_count": 35,
   "metadata": {},
   "outputs": [
    {
     "name": "stdout",
     "output_type": "stream",
     "text": [
      "[(4, 7)]\n",
      "[(0, 4), (4, 7)]\n",
      "[(3, 1), (0, 4), (4, 7)]\n",
      "[(3, 1), (2, 2), (0, 4), (4, 7)]\n"
     ]
    }
   ],
   "source": [
    "### 迭代建立有序二元组，key设为后个元素\n",
    "latter_sorted_list = []\n",
    "for d in [(4,7), (0, 4), (3,1), (2,2)]:\n",
    "    keys = [t[1] for t in latter_sorted_list] \n",
    "    i = bisect.bisect_left(keys, d[1])\n",
    "    latter_sorted_list.insert(i, d)\n",
    "    print(latter_sorted_list)"
   ]
  },
  {
   "cell_type": "code",
   "execution_count": null,
   "metadata": {},
   "outputs": [],
   "source": []
  }
 ],
 "metadata": {
  "kernelspec": {
   "display_name": "Python 3",
   "language": "python",
   "name": "python3"
  },
  "language_info": {
   "codemirror_mode": {
    "name": "ipython",
    "version": 3
   },
   "file_extension": ".py",
   "mimetype": "text/x-python",
   "name": "python",
   "nbconvert_exporter": "python",
   "pygments_lexer": "ipython3",
   "version": "3.7.6"
  }
 },
 "nbformat": 4,
 "nbformat_minor": 4
}
