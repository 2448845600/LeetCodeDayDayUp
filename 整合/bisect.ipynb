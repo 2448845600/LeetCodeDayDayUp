{
 "cells": [
  {
   "cell_type": "code",
   "execution_count": 1,
   "metadata": {},
   "outputs": [],
   "source": [
    "# 二分查找 bisect"
   ]
  },
  {
   "cell_type": "code",
   "execution_count": 2,
   "metadata": {},
   "outputs": [
    {
     "name": "stdout",
     "output_type": "stream",
     "text": [
      "有序列表a:[1, 3, 4, 5, 7, 9, 20]\n"
     ]
    }
   ],
   "source": [
    "import bisect\n",
    "a = [1,3,4,5,7,9,20]\n",
    "print(\"有序列表a:{}\".format(a))"
   ]
  },
  {
   "cell_type": "code",
   "execution_count": 3,
   "metadata": {},
   "outputs": [
    {
     "name": "stdout",
     "output_type": "stream",
     "text": [
      "从左边最接近4的下标是:2\n",
      "从右边最接近4的下标是:3\n",
      "从右边最接近4的下标是:3\n"
     ]
    }
   ],
   "source": [
    "## 如果存在target，返回target的下标+1，如果不存在，返回最  比target小的最大值 / 比target大的最小值  的下标+1\n",
    "## 返回值可以作为插入点的下标\n",
    "target = 4\n",
    "print(\"从左边最接近{}的下标是:{}\".format(target, bisect.bisect_left(a, target)))\n",
    "print(\"从右边最接近{}的下标是:{}\".format(target, bisect.bisect_right(a, target)))\n",
    "print(\"从右边最接近{}的下标是:{}\".format(target, bisect.bisect(a, target)))"
   ]
  },
  {
   "cell_type": "code",
   "execution_count": 6,
   "metadata": {},
   "outputs": [
    {
     "data": {
      "text/plain": [
       "2"
      ]
     },
     "execution_count": 6,
     "metadata": {},
     "output_type": "execute_result"
    }
   ],
   "source": [
    "bisect.bisect_left(a, 3.5)"
   ]
  },
  {
   "cell_type": "code",
   "execution_count": null,
   "metadata": {},
   "outputs": [],
   "source": []
  }
 ],
 "metadata": {
  "kernelspec": {
   "display_name": "Python 3",
   "language": "python",
   "name": "python3"
  },
  "language_info": {
   "codemirror_mode": {
    "name": "ipython",
    "version": 3
   },
   "file_extension": ".py",
   "mimetype": "text/x-python",
   "name": "python",
   "nbconvert_exporter": "python",
   "pygments_lexer": "ipython3",
   "version": "3.6.2"
  }
 },
 "nbformat": 4,
 "nbformat_minor": 4
}
