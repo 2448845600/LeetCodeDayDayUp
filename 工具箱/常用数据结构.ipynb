{
 "cells": [
  {
   "cell_type": "markdown",
   "metadata": {
    "collapsed": true,
    "pycharm": {
     "name": "#%% md\n"
    }
   },
   "source": [
    "# 常用数据结构\n",
    "- list\n",
    "- queue\n",
    "- set\n",
    "- UnionFind Set"
   ]
  },
  {
   "cell_type": "markdown",
   "source": [
    "## queue\n",
    "python内置多种队列，不考虑多线程这些东西，效率最高的是collection.deque，它是双向队列。"
   ],
   "metadata": {
    "collapsed": false
   }
  },
  {
   "cell_type": "code",
   "execution_count": 19,
   "outputs": [
    {
     "name": "stdout",
     "text": [
      "init deque: deque([1, 2, 3, 4])\n",
      "return and remove the leftmost item: 1\n",
      "return and remove the rightmost item: 4\n",
      "右边添加一个新元素: deque([2, 3, 9])\n",
      "判断队列是否为空: True\n",
      "判断元素是否存在于队列中: False\n"
     ],
     "output_type": "stream"
    }
   ],
   "source": [
    "import collections\n",
    "\n",
    "# 初始化\n",
    "que = collections.deque([1, 2, 3, 4])\n",
    "print(\"init deque: {}\".format(que))\n",
    "# pop\n",
    "print(\"return and remove the leftmost item: {}\".format(que.popleft()))\n",
    "print(\"return and remove the rightmost item: {}\".format(que.pop()))\n",
    "\n",
    "# push\n",
    "que.append(9)\n",
    "print(\"右边添加一个新元素: {}\".format(que))\n",
    "\n",
    "# empty\n",
    "que = collections.deque()\n",
    "print(\"判断队列是否为空: {}\".format(False if que else True))\n",
    "\n",
    "# 集合操作\n",
    "print(\"判断元素是否存在于队列中: {}\".format(5 in que))\n"
   ],
   "metadata": {
    "collapsed": false,
    "pycharm": {
     "name": "#%%\n",
     "is_executing": false
    }
   }
  }
 ],
 "metadata": {
  "kernelspec": {
   "display_name": "Python 3",
   "language": "python",
   "name": "python3"
  },
  "language_info": {
   "codemirror_mode": {
    "name": "ipython",
    "version": 2
   },
   "file_extension": ".py",
   "mimetype": "text/x-python",
   "name": "python",
   "nbconvert_exporter": "python",
   "pygments_lexer": "ipython2",
   "version": "2.7.6"
  },
  "pycharm": {
   "stem_cell": {
    "cell_type": "raw",
    "source": [],
    "metadata": {
     "collapsed": false
    }
   }
  }
 },
 "nbformat": 4,
 "nbformat_minor": 0
}