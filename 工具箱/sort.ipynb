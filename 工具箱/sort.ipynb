{
 "cells": [
  {
   "cell_type": "markdown",
   "metadata": {
    "pycharm": {
     "is_executing": true
    }
   },
   "source": [
    "# 排序"
   ]
  },
  {
   "cell_type": "markdown",
   "metadata": {
    "pycharm": {
     "is_executing": true
    }
   },
   "source": [
    "## 对数组排序"
   ]
  },
  {
   "cell_type": "code",
   "execution_count": 31,
   "metadata": {},
   "outputs": [
    {
     "name": "stdout",
     "output_type": "stream",
     "text": [
      "[0, 1, 2, 3, 4, 5, 6, 7, 8]\n",
      "[8, 7, 6, 5, 4, 3, 2, 1, 0]\n",
      "[1, 3, 5, 7, 2, 4, 6, 8, 0]\n",
      "[0, 1, 2, 3, 4, 5, 6, 7, 8]\n"
     ]
    }
   ],
   "source": [
    "a = [1,3,5,7,2,4,6,8,0]\n",
    "print(sorted(a))\n",
    "print(sorted(a, reverse=True))\n",
    "print(a)\n",
    "a.sort()\n",
    "print(a)"
   ]
  },
  {
   "cell_type": "code",
   "execution_count": 43,
   "metadata": {},
   "outputs": [
    {
     "name": "stdout",
     "output_type": "stream",
     "text": [
      "[['c', 1, 2, 5], ['a', 1, 2, 3], ['a', 2, 2, 3], ['b', 3, 2, 1], ['a', 3, 2, 3]]\n",
      "[['a', 1, 2, 3], ['a', 2, 2, 3], ['a', 3, 2, 3], ['b', 3, 2, 1], ['c', 1, 2, 5]]\n"
     ]
    }
   ],
   "source": [
    "b = [['c', 1, 2,5], ['b', 3,2,1], ['a', 1,2,3], ['a', 2,2,3], ['a', 3,2,3]]\n",
    "print(sorted(b, key = lambda x:x[1])) # 按照第一位从小到大排序\n",
    "print(sorted(b, key = lambda x:(x[0], x[1])))# 按照第一位从小到大排序，如果第一位相等的，按照第二位从小到大排序"
   ]
  },
  {
   "cell_type": "markdown",
   "metadata": {},
   "source": [
    "对于多维数组或者自定义结构，其大小顺序并非简单的顺序或逆序。如下所示，我们希望\n",
    "- 按照第0位**从小到大**排序\n",
    "- 如果第0位相等的，再按照第1位**从大到小**排序"
   ]
  },
  {
   "cell_type": "code",
   "execution_count": 46,
   "metadata": {},
   "outputs": [
    {
     "name": "stdout",
     "output_type": "stream",
     "text": [
      "[['a', 3, 2, 3], ['a', 2, 2, 3], ['a', 1, 2, 3], ['b', 3, 2, 1], ['c', 1, 2, 5]]\n"
     ]
    }
   ],
   "source": [
    "'''\n",
    "调用cmp_to_key，其返回值表示传入的两个数的大小关系\n",
    "如果返回值 >  0，代表 a > b\n",
    "如果返回值 <  0，代表 a < b\n",
    "如果返回值 == 0，代表 a = b\n",
    "'''\n",
    "from functools import cmp_to_key\n",
    "def func(x, y):\n",
    "    if x[0] > y[0]:\n",
    "        return 1\n",
    "    elif x[0] < y[0]:\n",
    "        return -1\n",
    "    elif x[0] == y[0]:\n",
    "        if x[1] > y[1]:\n",
    "            return -1\n",
    "        elif x[1] < y[1]:\n",
    "            return 1\n",
    "        else:\n",
    "            return 0      \n",
    "    \n",
    "print(sorted(b, key=cmp_to_key(func)))"
   ]
  },
  {
   "cell_type": "markdown",
   "metadata": {},
   "source": [
    "## 对字典排序"
   ]
  },
  {
   "cell_type": "code",
   "execution_count": 34,
   "metadata": {
    "scrolled": true
   },
   "outputs": [
    {
     "name": "stdout",
     "output_type": "stream",
     "text": [
      "['a', 'b', 'c', 'd']\n",
      "['a', 'b', 'c', 'd']\n",
      "[('a', 0), ('b', 4), ('c', 1), ('d', 7)]\n",
      "[('a', 0), ('c', 1), ('b', 4), ('d', 7)]\n"
     ]
    }
   ],
   "source": [
    "dic = { \"c\":1, \"b\":4, \"d\":7, \"a\":0}\n",
    "print(sorted(dic))\n",
    "print(sorted(dic.keys()))\n",
    "print(sorted(dic.items()))\n",
    "print(sorted(dic.items(), key=lambda d:d[1]))"
   ]
  },
  {
   "cell_type": "markdown",
   "metadata": {},
   "source": [
    "特意处理字典结构比较麻烦，经常转换为list再处理"
   ]
  },
  {
   "cell_type": "code",
   "execution_count": 41,
   "metadata": {},
   "outputs": [
    {
     "name": "stdout",
     "output_type": "stream",
     "text": [
      "['a', 'b', 'c', 'd']\n",
      "[('a', 0), ('b', 4), ('c', 1), ('d', 7)]\n"
     ]
    }
   ],
   "source": [
    "print(sorted(list(dic)))\n",
    "print(sorted(list(dic.items())))"
   ]
  },
  {
   "cell_type": "code",
   "execution_count": null,
   "metadata": {},
   "outputs": [],
   "source": []
  }
 ],
 "metadata": {
  "kernelspec": {
   "display_name": "Python 3",
   "language": "python",
   "name": "python3"
  },
  "language_info": {
   "codemirror_mode": {
    "name": "ipython",
    "version": 3
   },
   "file_extension": ".py",
   "mimetype": "text/x-python",
   "name": "python",
   "nbconvert_exporter": "python",
   "pygments_lexer": "ipython3",
   "version": "3.6.2"
  }
 },
 "nbformat": 4,
 "nbformat_minor": 4
}
