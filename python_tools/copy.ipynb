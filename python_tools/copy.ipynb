{
 "cells": [
  {
   "cell_type": "code",
   "execution_count": 1,
   "metadata": {},
   "outputs": [],
   "source": [
    "# 拷贝"
   ]
  },
  {
   "cell_type": "code",
   "execution_count": 2,
   "metadata": {},
   "outputs": [
    {
     "name": "stdout",
     "output_type": "stream",
     "text": [
      "before:[[0, 0], [0, 0], [0, 0]]\n",
      "after :[[1, 0], [1, 0], [1, 0]]\n"
     ]
    }
   ],
   "source": [
    "## 使用列表生成式产生新列表也是一个浅拷贝方法，只对第一层实现深拷贝\n",
    "list1 = [[0] * 2] * 3\n",
    "print(\"before:{}\".format(list1))\n",
    "\n",
    "list1[0][0] += 1\n",
    "print(\"after :{}\".format(list1))"
   ]
  },
  {
   "cell_type": "code",
   "execution_count": 3,
   "metadata": {},
   "outputs": [
    {
     "name": "stdout",
     "output_type": "stream",
     "text": [
      "before:[[0, 0], [0, 0], [0, 0]]\n",
      "after :[[1, 0], [0, 0], [0, 0]]\n"
     ]
    }
   ],
   "source": [
    "list2 = [ [0] * 2 for _ in range(3)]\n",
    "print(\"before:{}\".format(list2))\n",
    "\n",
    "list2[0][0] += 1\n",
    "print(\"after :{}\".format(list2))"
   ]
  },
  {
   "cell_type": "code",
   "execution_count": 4,
   "metadata": {},
   "outputs": [
    {
     "name": "stdout",
     "output_type": "stream",
     "text": [
      "before:[[0, 0], [0, 0], [0, 0]]\n",
      "after :[[1, 0], [0, 0], [0, 0]]\n"
     ]
    }
   ],
   "source": [
    "## 逐个赋值，深拷贝\n",
    "list3 = [[0 for _ in range(2)] for _ in range(3)]\n",
    "print(\"before:{}\".format(list3))\n",
    "\n",
    "list3[0][0] += 1\n",
    "print(\"after :{}\".format(list3))"
   ]
  },
  {
   "cell_type": "code",
   "execution_count": null,
   "metadata": {},
   "outputs": [],
   "source": []
  }
 ],
 "metadata": {
  "kernelspec": {
   "display_name": "Python 3",
   "language": "python",
   "name": "python3"
  },
  "language_info": {
   "codemirror_mode": {
    "name": "ipython",
    "version": 3
   },
   "file_extension": ".py",
   "mimetype": "text/x-python",
   "name": "python",
   "nbconvert_exporter": "python",
   "pygments_lexer": "ipython3",
   "version": "3.6.2"
  }
 },
 "nbformat": 4,
 "nbformat_minor": 4
}
