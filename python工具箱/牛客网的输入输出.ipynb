{
 "cells": [
  {
   "cell_type": "markdown",
   "source": [
    "常用的输入输出格式有两种：\n",
    "- sys.stdin.readlines()\n",
    "- input()\n",
    "\n",
    "两种写法导入的包不同。此外，还会利用 exit() 为某些终止分支语句\n",
    "以 [被3整除](https://www.nowcoder.com/practice/51dcb4eef6004f6f8f44d927463ad5e8?tpId=98&tqId=32825&rp=1&ru=%2Fta%2F2019test&qru=%2Fta%2F2019test%2Fquestion-ranking&tPage=1)为例"
   ],
   "metadata": {
    "collapsed": false,
    "pycharm": {
     "name": "#%% md\n"
    }
   }
  },
  {
   "cell_type": "code",
   "execution_count": null,
   "metadata": {
    "collapsed": true
   },
   "outputs": [],
   "source": [
    "import sys\n",
    "\n",
    "lines = sys.stdin.readlines()\n",
    "l, r = map(int, lines[0].strip().split())\n",
    "\n",
    "\n",
    "def get_three(i):\n",
    "    if i % 3 == 0:\n",
    "        return (i // 3) * 2\n",
    "    else:\n",
    "        return (i // 3) * 2 + (i % 3 == 2)\n",
    "\n",
    "\n",
    "res = get_three(r) - get_three(l - 1)\n",
    "print(res)"
   ]
  },
  {
   "cell_type": "code",
   "execution_count": null,
   "outputs": [],
   "source": [
    "import os\n",
    "\n",
    "l, r = map(int, input().split())\n",
    " \n",
    "def get_three(i):\n",
    "    if i % 3 == 0:\n",
    "        return (i // 3) * 2\n",
    "    else:\n",
    "        return (i // 3) * 2 + (i % 3 == 2)\n",
    "\n",
    "res = get_three(r) - get_three(l - 1)\n",
    "print(res)\n"
   ],
   "metadata": {
    "collapsed": false,
    "pycharm": {
     "name": "#%%\n"
    }
   }
  }
 ],
 "metadata": {
  "kernelspec": {
   "display_name": "Python 3",
   "language": "python",
   "name": "python3"
  },
  "language_info": {
   "codemirror_mode": {
    "name": "ipython",
    "version": 2
   },
   "file_extension": ".py",
   "mimetype": "text/x-python",
   "name": "python",
   "nbconvert_exporter": "python",
   "pygments_lexer": "ipython2",
   "version": "2.7.6"
  },
  "pycharm": {
   "stem_cell": {
    "cell_type": "raw",
    "source": [],
    "metadata": {
     "collapsed": false
    }
   }
  }
 },
 "nbformat": 4,
 "nbformat_minor": 0
}