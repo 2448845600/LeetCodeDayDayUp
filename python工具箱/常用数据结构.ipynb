{
 "cells": [
  {
   "cell_type": "markdown",
   "metadata": {
    "collapsed": true,
    "pycharm": {
     "name": "#%% md\n"
    }
   },
   "source": [
    "# 常用数据结构\n",
    "- list\n",
    "- queue\n",
    "- set\n",
    "- heap\n",
    "- UnionFind Set\n",
    "- Trie Tree"
   ]
  },
  {
   "cell_type": "markdown",
   "metadata": {},
   "source": [
    "## queue\n",
    "python内置多种队列，不考虑多线程这些东西，效率最高的是collection.deque，它是双向队列。"
   ]
  },
  {
   "cell_type": "code",
   "execution_count": 3,
   "metadata": {
    "pycharm": {
     "is_executing": false,
     "name": "#%%\n"
    }
   },
   "outputs": [
    {
     "name": "stdout",
     "output_type": "stream",
     "text": [
      "init deque: deque([1, 2, 3, 4])\n",
      "return and remove the leftmost item: 1\n",
      "return and remove the rightmost item: 4\n",
      "右边添加一个新元素: deque([2, 3, 9])\n",
      "判断队列是否为空: True\n",
      "判断元素是否存在于队列中: False\n"
     ]
    }
   ],
   "source": [
    "import collections\n",
    "\n",
    "# 初始化\n",
    "que = collections.deque([1, 2, 3, 4])\n",
    "print(\"init deque: {}\".format(que))\n",
    "# pop\n",
    "print(\"return and remove the leftmost item: {}\".format(que.popleft()))\n",
    "print(\"return and remove the rightmost item: {}\".format(que.pop()))\n",
    "\n",
    "# push\n",
    "que.append(9)\n",
    "print(\"右边添加一个新元素: {}\".format(que))\n",
    "\n",
    "# empty\n",
    "que = collections.deque()\n",
    "print(\"判断队列是否为空: {}\".format(False if que else True))\n",
    "\n",
    "# 集合操作\n",
    "print(\"判断元素是否存在于队列中: {}\".format(5 in que))"
   ]
  },
  {
   "cell_type": "markdown",
   "metadata": {},
   "source": [
    "## heap\n",
    "\n",
    "堆，一般默认最小堆\n",
    "\n"
   ]
  },
  {
   "cell_type": "code",
   "execution_count": 14,
   "metadata": {
    "pycharm": {
     "is_executing": false,
     "name": "#%%\n"
    }
   },
   "outputs": [],
   "source": [
    "import heapq"
   ]
  },
  {
   "cell_type": "code",
   "execution_count": 15,
   "metadata": {},
   "outputs": [
    {
     "name": "stdout",
     "output_type": "stream",
     "text": [
      "[1]\n",
      "[1, 5]\n",
      "[1, 5, 2]\n",
      "[1, 4, 2, 5]\n",
      "[1, 3, 2, 5, 4]\n"
     ]
    }
   ],
   "source": [
    "# 从空数组建立最小堆\n",
    "heap = []\n",
    "for i in [1,5,2,4,3]:\n",
    "    heapq.heappush(heap, i)\n",
    "    print(heap)"
   ]
  },
  {
   "cell_type": "code",
   "execution_count": 28,
   "metadata": {},
   "outputs": [
    {
     "name": "stdout",
     "output_type": "stream",
     "text": [
      "堆: [1, 2, 5, 4, 3, 6], 长度: 6\n",
      "删除堆顶元素1，删除后堆:[2, 3, 5, 4, 6]\n",
      "[6, 5, 4]\n",
      "[2, 3, 4]\n"
     ]
    }
   ],
   "source": [
    "# 从数组建立最小堆\n",
    "heap = [1,3,5,4,2,6]\n",
    "heapq.heapify(heap)\n",
    "print(\"堆: {}, 长度: {}\".format(heap, len(heap)))\n",
    "\n",
    "# 删除栈顶元素\n",
    "top = heapq.heappop(heap)\n",
    "print(\"删除堆顶元素{}，删除后堆:{}\".format(top, heap))\n",
    "\n",
    "# 返回top-k\n",
    "print(heapq.nlargest(3, heap))\n",
    "print(heapq.nsmallest(3, heap))"
   ]
  },
  {
   "cell_type": "markdown",
   "metadata": {},
   "source": [
    "## 字典树\n",
    "\n",
    "字典树(Trie Tree)是哈希树的变种。常用于统计、排序和保存大量的字符串。其优点为：利用字符串的公共前缀来减少查询时间，最大限度地减少无谓的字符串比较，查询效率比哈希树高。字典树的基本性质：\n",
    "1. 根节点不包含字符，除根节点外每一个节点都只包含一个字符；\n",
    "2. 从根节点到某一节点，路径上经过的字符连接起来，为该节点对应的字符串；\n",
    "3. 每个节点的所有子节点包含的字符都不相同。\n",
    "\n",
    "在实现中，对于每个节点，保存一个标志位word，以表示从根节点到当前节点路径组成的字符串是否完整的出现过。例如，\"abc, abcd, acbde\"中，'ab'不算完整的出现，\"abc\"算完整的出现过。\n"
   ]
  },
  {
   "cell_type": "code",
   "execution_count": 1,
   "metadata": {
    "pycharm": {
     "name": "#%%\n"
    }
   },
   "outputs": [
    {
     "name": "stdout",
     "output_type": "stream",
     "text": [
      "False, True\n"
     ]
    }
   ],
   "source": [
    "'''\n",
    "https://zhuanlan.zhihu.com/p/57342852\n",
    "'''\n",
    "\n",
    "from collections import defaultdict\n",
    "class TrieNode:\n",
    "    def __init__(self):\n",
    "        \"\"\"\n",
    "        这里使用了collection.defaultdict，是dict的子类，其构造函数接受一个可调用对象，查找时如果找不到给定的键，就返回这个可调用对象。\n",
    "        self.children = defaultdict(TrieNode) 即默认值为一个TrieNode。\n",
    "        \"\"\"\n",
    "        self.children = defaultdict(TrieNode)\n",
    "        self.word = False\n",
    "\n",
    "class Trie:\n",
    "\n",
    "    def __init__(self):\n",
    "        \"\"\"\n",
    "        Initialize your data structure here.\n",
    "        \"\"\"\n",
    "        self.root = TrieNode()\n",
    "\n",
    "\n",
    "\n",
    "    def insert(self, word):\n",
    "        \"\"\"\n",
    "        Inserts a word into the trie.\n",
    "        :type word: str\n",
    "        :rtype: void\n",
    "        \"\"\"\n",
    "        cur = self.root\n",
    "        for w in word:\n",
    "            cur = cur.children[w]\n",
    "\n",
    "        cur.word = True\n",
    "\n",
    "\n",
    "    def search(self, word):\n",
    "        \"\"\"\n",
    "        Returns if the word is in the trie.\n",
    "        :type word: str\n",
    "        :rtype: bool\n",
    "        \"\"\"\n",
    "        cur = self.root\n",
    "        for w in word:\n",
    "            if w not in cur.children:\n",
    "                return False\n",
    "            cur = cur.children[w]\n",
    "        if cur.word :\n",
    "            return True\n",
    "        return False\n",
    "\n",
    "\n",
    "\n",
    "    def startsWith(self, prefix):\n",
    "        \"\"\"\n",
    "        Returns if there is any word in the trie that starts with the given prefix.\n",
    "        :type prefix: str\n",
    "        :rtype: bool\n",
    "        \"\"\"\n",
    "        cur = self.root\n",
    "        for p in prefix:\n",
    "            if p not in cur.children:\n",
    "                return False\n",
    "            cur = cur.children[p]\n",
    "        return True\n",
    "    \n",
    "    def isTail(self, word):\n",
    "        \"\"\"\n",
    "        返回该字符串是否为字典树的一条路径（直达叶子节点）\n",
    "        :type word: str\n",
    "        :rtype: bool\n",
    "        \"\"\"\n",
    "        cur = self.root\n",
    "        for w in word:\n",
    "            if w not in cur.children:\n",
    "                return False\n",
    "            cur = cur.children[w]\n",
    "        return len(cur.children) == 0\n",
    "\n",
    "\n",
    "# Your Trie object will be instantiated and called as such:\n",
    "obj = Trie()\n",
    "obj.insert('abc')\n",
    "param_2 = obj.search('ab')\n",
    "param_3 = obj.startsWith('ab')\n",
    "print('{}, {}'.format(param_2, param_3))"
   ]
  },
  {
   "cell_type": "code",
   "execution_count": null,
   "metadata": {},
   "outputs": [],
   "source": []
  }
 ],
 "metadata": {
  "kernelspec": {
   "display_name": "Python 3",
   "language": "python",
   "name": "python3"
  },
  "language_info": {
   "codemirror_mode": {
    "name": "ipython",
    "version": 3
   },
   "file_extension": ".py",
   "mimetype": "text/x-python",
   "name": "python",
   "nbconvert_exporter": "python",
   "pygments_lexer": "ipython3",
   "version": "3.6.2"
  },
  "pycharm": {
   "stem_cell": {
    "cell_type": "raw",
    "source": [],
    "metadata": {
     "collapsed": false
    }
   }
  }
 },
 "nbformat": 4,
 "nbformat_minor": 1
}