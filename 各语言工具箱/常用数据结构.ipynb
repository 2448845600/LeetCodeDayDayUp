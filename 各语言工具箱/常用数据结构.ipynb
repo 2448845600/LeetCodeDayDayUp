{
 "cells": [
  {
   "cell_type": "markdown",
   "metadata": {
    "collapsed": true,
    "pycharm": {
     "name": "#%% md\n"
    }
   },
   "source": [
    "# 常用数据结构\n",
    "- list\n",
    "- queue\n",
    "- set\n",
    "- heap\n",
    "- UnionFind Set"
   ]
  },
  {
   "cell_type": "markdown",
   "metadata": {},
   "source": [
    "## queue\n",
    "python内置多种队列，不考虑多线程这些东西，效率最高的是collection.deque，它是双向队列。"
   ]
  },
  {
   "cell_type": "code",
   "execution_count": 3,
   "metadata": {
    "pycharm": {
     "is_executing": false,
     "name": "#%%\n"
    }
   },
   "outputs": [
    {
     "name": "stdout",
     "output_type": "stream",
     "text": [
      "init deque: deque([1, 2, 3, 4])\n",
      "return and remove the leftmost item: 1\n",
      "return and remove the rightmost item: 4\n",
      "右边添加一个新元素: deque([2, 3, 9])\n",
      "判断队列是否为空: True\n",
      "判断元素是否存在于队列中: False\n"
     ]
    }
   ],
   "source": [
    "import collections\n",
    "\n",
    "# 初始化\n",
    "que = collections.deque([1, 2, 3, 4])\n",
    "print(\"init deque: {}\".format(que))\n",
    "# pop\n",
    "print(\"return and remove the leftmost item: {}\".format(que.popleft()))\n",
    "print(\"return and remove the rightmost item: {}\".format(que.pop()))\n",
    "\n",
    "# push\n",
    "que.append(9)\n",
    "print(\"右边添加一个新元素: {}\".format(que))\n",
    "\n",
    "# empty\n",
    "que = collections.deque()\n",
    "print(\"判断队列是否为空: {}\".format(False if que else True))\n",
    "\n",
    "# 集合操作\n",
    "print(\"判断元素是否存在于队列中: {}\".format(5 in que))"
   ]
  },
  {
   "cell_type": "markdown",
   "metadata": {},
   "source": [
    "## heap\n",
    "\n",
    "堆，一般默认最小堆\n",
    "\n"
   ]
  },
  {
   "cell_type": "code",
   "execution_count": 14,
   "metadata": {
    "pycharm": {
     "is_executing": false,
     "name": "#%%\n"
    }
   },
   "outputs": [],
   "source": [
    "import heapq"
   ]
  },
  {
   "cell_type": "code",
   "execution_count": 15,
   "metadata": {},
   "outputs": [
    {
     "name": "stdout",
     "output_type": "stream",
     "text": [
      "[1]\n",
      "[1, 5]\n",
      "[1, 5, 2]\n",
      "[1, 4, 2, 5]\n",
      "[1, 3, 2, 5, 4]\n"
     ]
    }
   ],
   "source": [
    "# 从空数组建立最小堆\n",
    "heap = []\n",
    "for i in [1,5,2,4,3]:\n",
    "    heapq.heappush(heap, i)\n",
    "    print(heap)"
   ]
  },
  {
   "cell_type": "code",
   "execution_count": 28,
   "metadata": {},
   "outputs": [
    {
     "name": "stdout",
     "output_type": "stream",
     "text": [
      "堆: [1, 2, 5, 4, 3, 6], 长度: 6\n",
      "删除堆顶元素1，删除后堆:[2, 3, 5, 4, 6]\n",
      "[6, 5, 4]\n",
      "[2, 3, 4]\n"
     ]
    }
   ],
   "source": [
    "# 从数组建立最小堆\n",
    "heap = [1,3,5,4,2,6]\n",
    "heapq.heapify(heap)\n",
    "print(\"堆: {}, 长度: {}\".format(heap, len(heap)))\n",
    "\n",
    "# 删除栈顶元素\n",
    "top = heapq.heappop(heap)\n",
    "print(\"删除堆顶元素{}，删除后堆:{}\".format(top, heap))\n",
    "\n",
    "# 返回top-k\n",
    "print(heapq.nlargest(3, heap))\n",
    "print(heapq.nsmallest(3, heap))"
   ]
  },
  {
   "cell_type": "code",
   "execution_count": null,
   "metadata": {},
   "outputs": [],
   "source": []
  }
 ],
 "metadata": {
  "kernelspec": {
   "display_name": "Python 3",
   "language": "python",
   "name": "python3"
  },
  "language_info": {
   "codemirror_mode": {
    "name": "ipython",
    "version": 3
   },
   "file_extension": ".py",
   "mimetype": "text/x-python",
   "name": "python",
   "nbconvert_exporter": "python",
   "pygments_lexer": "ipython3",
   "version": "3.6.2"
  },
  "pycharm": {
   "stem_cell": {
    "cell_type": "raw",
    "metadata": {
     "collapsed": false
    },
    "source": []
   }
  }
 },
 "nbformat": 4,
 "nbformat_minor": 1
}
