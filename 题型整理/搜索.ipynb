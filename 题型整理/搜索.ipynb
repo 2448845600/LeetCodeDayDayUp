{
 "cells": [
  {
   "cell_type": "code",
   "execution_count": 1,
   "metadata": {
    "collapsed": true,
    "pycharm": {
     "is_executing": false,
     "name": "#%%\n"
    }
   },
   "outputs": [
    {
     "data": {
      "text/plain": [
       "'\\nhttps://leetcode-cn.com/problems/number-of-islands/\\n'"
      ]
     },
     "execution_count": 1,
     "metadata": {},
     "output_type": "execute_result"
    }
   ],
   "source": [
    "# 搜索\n",
    "\n",
    "## LeetCode ID 200\n",
    "'''\n",
    "https://leetcode-cn.com/problems/number-of-islands/\n",
    "'''"
   ]
  },
  {
   "cell_type": "code",
   "execution_count": 2,
   "metadata": {
    "pycharm": {
     "is_executing": false,
     "name": "#%%\n"
    }
   },
   "outputs": [
    {
     "name": "stdout",
     "output_type": "stream",
     "text": [
      "1\n"
     ]
    }
   ],
   "source": [
    "### 方法1: DFS\n",
    "class Solution:\n",
    "    def numIslands(self, grid) -> int:\n",
    "        def dfs(grid, i, j, m, n, used):\n",
    "            used[i][j] = True\n",
    "\n",
    "            steps = [[1, 0], [0, 1], [-1, 0], [0, -1]]\n",
    "            for dx, dy in steps:\n",
    "                newx = i + dx\n",
    "                newy = j + dy\n",
    "                if 0 <= newx < m and 0 <= newy < n and not used[newx][newy] and grid[newx][newy] == \"1\":\n",
    "                    dfs(grid, newx, newy, m, n, used)\n",
    "\n",
    "        m = len(grid)\n",
    "        if m == 0:\n",
    "            return 0\n",
    "        n = len(grid[0])\n",
    "\n",
    "        count = 0\n",
    "        used = [[False for _ in range(n)] for _ in range(m)]\n",
    "\n",
    "        for i in range(m):\n",
    "            for j in range(n):\n",
    "                if grid[i][j] == \"1\" and (not used[i][j]):\n",
    "                    dfs(grid, i, j, m, n, used)\n",
    "                    count += 1\n",
    "\n",
    "        return count\n",
    "\n",
    "\n",
    "if __name__ == '__main__':\n",
    "    s = Solution()\n",
    "    grid = [[\"1\", \"1\", \"1\", \"1\", \"0\"], [\"1\", \"1\", \"0\", \"1\", \"0\"], [\"1\", \"1\", \"0\", \"0\", \"0\"], [\"0\", \"0\", \"0\", \"0\", \"0\"]]\n",
    "    print(s.numIslands(grid))"
   ]
  },
  {
   "cell_type": "code",
   "execution_count": 4,
   "metadata": {
    "pycharm": {
     "is_executing": false,
     "name": "#%%\n"
    }
   },
   "outputs": [
    {
     "name": "stdout",
     "output_type": "stream",
     "text": [
      "1\n"
     ]
    }
   ],
   "source": [
    "### 方法2: BFS\n",
    "class Solution:\n",
    "    def numIslands(self, grid) -> int:\n",
    "        from queue import Queue\n",
    "\n",
    "        m = len(grid)\n",
    "        if m == 0:\n",
    "            return 0\n",
    "        n = len(grid[0])\n",
    "\n",
    "        count = 0\n",
    "        used = [[False for _ in range(n)] for _ in range(m)]\n",
    "\n",
    "        for i in range(m):\n",
    "            for j in range(n):\n",
    "                if grid[i][j] == \"1\" and (not used[i][j]):\n",
    "                    que = Queue()\n",
    "                    que.put((i, j))\n",
    "                    count += 1\n",
    "\n",
    "                    while not que.empty():\n",
    "                        cur_x, cur_y = que.get()\n",
    "                        steps = [[1, 0], [0, 1], [-1, 0], [0, -1]]\n",
    "                        for dx, dy in steps:\n",
    "                            new_x = cur_x + dx\n",
    "                            new_y = cur_y + dy\n",
    "                            if 0 <= new_x < m and 0 <= new_y < n and not used[new_x][new_y] \\\n",
    "                                    and grid[new_x][new_y] == \"1\":\n",
    "                                que.put((new_x, new_y))\n",
    "                                used[new_x][new_y] = True\n",
    "\n",
    "        return count\n",
    "    \n",
    "if __name__ == '__main__':\n",
    "    s = Solution()\n",
    "    grid = [[\"1\", \"1\", \"1\", \"1\", \"0\"], [\"1\", \"1\", \"0\", \"1\", \"0\"], [\"1\", \"1\", \"0\", \"0\", \"0\"], [\"0\", \"0\", \"0\", \"0\", \"0\"]]\n",
    "    print(s.numIslands(grid))"
   ]
  },
  {
   "cell_type": "code",
   "execution_count": 5,
   "metadata": {},
   "outputs": [
    {
     "name": "stdout",
     "output_type": "stream",
     "text": [
      "1\n"
     ]
    }
   ],
   "source": [
    "### 方法3: 并查集\n",
    "'''\n",
    "并查集demo\n",
    "'''\n",
    "class Solution:\n",
    "    def numIslands(self, grid) -> int:\n",
    "        # UnionFind Set\n",
    "        class UnionFind:\n",
    "            def __init__(self, n):\n",
    "                self.count = n\n",
    "                self.parent = [i for i in range(n)]\n",
    "                self.rank = [1 for _ in range(n)]\n",
    "\n",
    "            def get_count(self):\n",
    "                return self.count\n",
    "\n",
    "            def find(self, p):\n",
    "                while p != self.parent[p]:\n",
    "                    self.parent[p] = self.parent[self.parent[p]]\n",
    "                    p = self.parent[p]\n",
    "                return p\n",
    "\n",
    "            def union(self, p, q):\n",
    "                p_root = self.find(p)\n",
    "                q_root = self.find(q)\n",
    "                if p_root == q_root: return\n",
    "\n",
    "                if self.rank[p_root] > self.rank[q_root]:\n",
    "                    self.parent[q_root] = p_root\n",
    "                    self.rank[p_root] += 1\n",
    "                else:\n",
    "                    self.parent[p_root] = q_root\n",
    "                    self.rank[q_root] += 1\n",
    "\n",
    "                self.count -= 1\n",
    "\n",
    "        # main\n",
    "        row = len(grid)\n",
    "        if row == 0:\n",
    "            return 0\n",
    "        col = len(grid[0])\n",
    "\n",
    "        def get_index(x, y):\n",
    "            return x * col + y\n",
    "\n",
    "        # 实际节点编号从 0 ~ row*col-1，虚拟节点编号row * col\n",
    "        dummy_node = row * col  # 多出来的一个节点，虚拟节点\n",
    "        uf = UnionFind(dummy_node + 1)  # 多开一个空间，把水域 \"0\" 都归到这个虚拟节点\n",
    "        for i in range(row):\n",
    "            for j in range(col):\n",
    "                if grid[i][j] == '0':\n",
    "                    uf.union(get_index(i, j), dummy_node)\n",
    "                else:\n",
    "                    for dx, dy in [[1, 0], [0, 1]]:\n",
    "                        new_x = i + dx\n",
    "                        new_y = j + dy\n",
    "                        if new_x < row and new_y < col and grid[new_x][new_y] == '1':\n",
    "                            uf.union(get_index(i, j), get_index(new_x, new_y))\n",
    "\n",
    "        return uf.get_count() - 1  # 删除虚拟节点\n",
    "\n",
    "if __name__ == '__main__':\n",
    "    s = Solution()\n",
    "    grid = [[\"1\", \"1\", \"1\", \"1\", \"0\"], [\"1\", \"1\", \"0\", \"1\", \"0\"], [\"1\", \"1\", \"0\", \"0\", \"0\"], [\"0\", \"0\", \"0\", \"0\", \"0\"]]\n",
    "    print(s.numIslands(grid))"
   ]
  },
  {
   "cell_type": "code",
   "execution_count": null,
   "metadata": {},
   "outputs": [],
   "source": []
  }
 ],
 "metadata": {
  "kernelspec": {
   "display_name": "Python 3",
   "language": "python",
   "name": "python3"
  },
  "language_info": {
   "codemirror_mode": {
    "name": "ipython",
    "version": 3
   },
   "file_extension": ".py",
   "mimetype": "text/x-python",
   "name": "python",
   "nbconvert_exporter": "python",
   "pygments_lexer": "ipython3",
   "version": "3.7.4"
  },
  "pycharm": {
   "stem_cell": {
    "cell_type": "raw",
    "metadata": {
     "collapsed": false
    },
    "source": []
   }
  }
 },
 "nbformat": 4,
 "nbformat_minor": 1
}
