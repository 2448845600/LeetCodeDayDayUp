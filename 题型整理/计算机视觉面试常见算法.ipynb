{
 "cells": [
  {
   "cell_type": "markdown",
   "metadata": {
    "collapsed": true,
    "pycharm": {
     "name": "#%% md\n"
    }
   },
   "source": [
    "# 计算机视觉中常见的白板代码\n",
    "\n",
    "面试白板一种是写代码，一种是写伪代码\n",
    "\n",
    "[TOC]\n",
    "\n",
    "\n",
    "## 计算IoU\n",
    "\n",
    "IoU计算要注意两个问题：\n",
    "- 二维图像的xy坐标系，其原点一般在左上角，y轴正方向向下\n",
    "- 注意向量操作\n",
    "\n",
    "代码如下："
   ]
  },
  {
   "cell_type": "code",
   "execution_count": 1,
   "metadata": {
    "pycharm": {
     "is_executing": false,
     "name": "#%%\n"
    }
   },
   "outputs": [
    {
     "name": "stdout",
     "text": [
      "tensor([[0.0000, 1.0000],\n",
      "        [0.0000, 0.2308]])\n"
     ],
     "output_type": "stream"
    }
   ],
   "source": [
    "'''\n",
    "pytorch=1.4\n",
    "'''\n",
    "\n",
    "import torch\n",
    "\n",
    "\n",
    "def iou(box1, box2):\n",
    "    N = box1.size(0)\n",
    "    M = box2.size(0)\n",
    "    \n",
    "    # 重叠区域lt\n",
    "    lt = torch.max(\n",
    "        box1[:, :2].unsqueeze(1).expand(N, M, 2),  # [N,2]->[N,1,2]->[N,M,2]\n",
    "        box2[:, :2].unsqueeze(0).expand(N, M, 2),  # [M,2]->[1,M,2]->[N,M,2]\n",
    "    )\n",
    "    \n",
    "    # 重叠区域rb\n",
    "    rb = torch.min(\n",
    "        box1[:, 2:].unsqueeze(1).expand(N, M, 2),\n",
    "        box2[:, 2:].unsqueeze(0).expand(N, M, 2),\n",
    "    )\n",
    "\n",
    "    wh = rb - lt  # [N,M,2]\n",
    "    wh[wh < 0] = 0  # 两个box没有重叠区域，防止两个负数相乘变成正数\n",
    "    inter = wh[:, :, 0] * wh[:, :, 1]  # [N,M]\n",
    "\n",
    "    area1 = (box1[:, 2] - box1[:, 0]) * (box1[:, 3] - box1[:, 1])  # (N,)\n",
    "    area2 = (box2[:, 2] - box2[:, 0]) * (box2[:, 3] - box2[:, 1])  # (M,)\n",
    "    area1 = area1.unsqueeze(1).expand(N, M)  # (N,M)\n",
    "    area2 = area2.unsqueeze(0).expand(N, M)  # (N,M)\n",
    "\n",
    "    iou = inter / (area1 + area2 - inter)\n",
    "    return iou\n",
    "\n",
    "\n",
    "if __name__ == '__main__':\n",
    "    box1 = torch.tensor([[15., 20., 35., 40.], [20., 30., 40., 50.]])\n",
    "    box2 = torch.tensor([[15., 19., 15., 20.], [15., 20., 35., 40.]])\n",
    "\n",
    "    print(iou(box1, box2))\n"
   ]
  },
  {
   "cell_type": "markdown",
   "metadata": {
    "pycharm": {
     "is_executing": false
    }
   },
   "source": [
    "## NMS\n",
    "\n",
    "nms:\n",
    "1. 将检测结果按照类别分离；\n",
    "2. 对于每种类别，按照score降序排列，得到降序的list_k；\n",
    "3. 取出list_k的第一个元素，计算它与其他元素的IoU，剔除IoU大于阈值的元素；\n",
    "4. 重复操作3，直至list_k为空。"
   ]
  },
  {
   "cell_type": "code",
   "execution_count": 2,
   "metadata": {
    "pycharm": {
     "is_executing": false
    }
   },
   "outputs": [
    {
     "name": "stdout",
     "text": [
      "tensor([1, 0, 2])\n"
     ],
     "output_type": "stream"
    }
   ],
   "source": [
    "import torch\n",
    "\n",
    "\n",
    "def nms(bboxes, scores, iou_thres=0.5):\n",
    "    x1 = bboxes[:, 0]\n",
    "    y1 = bboxes[:, 1]\n",
    "    x2 = bboxes[:, 2]\n",
    "    y2 = bboxes[:, 3]\n",
    "    areas = (x2 - x1) * (y2 - y1)  # [N,] 每个bbox的面积\n",
    "    _, order = scores.sort(0, descending=True)  # 降序排列\n",
    "\n",
    "    keep = []\n",
    "    while order.numel() > 0:  # torch.numel()返回张量元素个数\n",
    "        if order.numel() == 1:  # 保留框只剩一个\n",
    "            i = order.item()\n",
    "            keep.append(i)\n",
    "            break\n",
    "        else:\n",
    "            i = order[0].item()  # 保留scores最大的那个框box[i]\n",
    "            keep.append(i)\n",
    "\n",
    "        # 计算 box[i]与其余各框的 IOU(思路很好)\n",
    "        # clamp 夹紧上下限，从这里，向量的长度为 N-1\n",
    "        xx1 = x1[order[1:]].clamp(min=x1[i])  # 即 torch.max(order[1:], x1[i])\n",
    "        yy1 = y1[order[1:]].clamp(min=y1[i])\n",
    "        xx2 = x2[order[1:]].clamp(max=x2[i])\n",
    "        yy2 = y2[order[1:]].clamp(max=y2[i])\n",
    "        inter = (xx2 - xx1).clamp(min=0) * (yy2 - yy1).clamp(min=0)\n",
    "\n",
    "        iou = inter / (areas[i] + areas[order[1:]] - inter)\n",
    "        idx = (iou <= iou_thres).nonzero().squeeze()\n",
    "        if idx.numel() == 0:\n",
    "            break\n",
    "        order = order[idx + 1]  # 修补索引之间的差值, idx从 1 ~ N, 而 order 是 0 ~ N\n",
    "    return torch.LongTensor(keep)  # Pytorch的索引值为LongTensor\n",
    "\n",
    "\n",
    "if __name__ == '__main__':\n",
    "    bboxes = torch.tensor([[15., 20., 35., 40.], [20., 30., 40., 50.], [15., 19., 15., 20.], [15., 20., 35., 40.]])\n",
    "    scores = torch.tensor([0.8, 0.9, 0.7, 0.78])\n",
    "\n",
    "    print(nms(bboxes, scores))"
   ]
  },
  {
   "cell_type": "markdown",
   "metadata": {
    "pycharm": {
     "name": "#%% md\n"
    }
   },
   "source": [
    "soft-nms:\n",
    "1. 将检测结果按照类别分离；\n",
    "2. 对于每种类别，按照score降序排列，得到降序的list_k；\n",
    "3. 取出list_k的第一个元素$\\mathcal{M}$，计算它与其他元素$b_i$的IoU，更新score为\n",
    "\n",
    "$$\n",
    "s_{i}=\\left\\{\\begin{array}{ll}s_{i}, & \\operatorname{iou}\\left(\\mathcal{M}, b_{i}\\right)<N_{t} \\\\s_{i} \\cdot f\\left(1-\\operatorname{iou}\\left(\\mathcal{M}, b_{i}\\right)\\right), & \\operatorname{iou}\\left(\\mathcal{M}, b_{i}\\right) \\geq N_{t}\n",
    "\\end{array}\\right.\n",
    "$$\n",
    "\n",
    "4. 重复操作3，直至list_k为空\n",
    "\n",
    "\n"
   ]
  }
 ],
 "metadata": {
  "kernelspec": {
   "name": "pycharm-8790b858",
   "language": "python",
   "display_name": "PyCharm (test)"
  },
  "language_info": {
   "codemirror_mode": {
    "name": "ipython",
    "version": 3
   },
   "file_extension": ".py",
   "mimetype": "text/x-python",
   "name": "python",
   "nbconvert_exporter": "python",
   "pygments_lexer": "ipython3",
   "version": "3.7.6"
  },
  "pycharm": {
   "stem_cell": {
    "cell_type": "raw",
    "source": [],
    "metadata": {
     "collapsed": false
    }
   }
  }
 },
 "nbformat": 4,
 "nbformat_minor": 1
}