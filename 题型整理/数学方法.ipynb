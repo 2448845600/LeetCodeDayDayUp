{
 "cells": [
  {
   "cell_type": "markdown",
   "metadata": {
    "collapsed": true,
    "pycharm": {
     "is_executing": false
    }
   },
   "source": [
    "# 数学方法\n",
    "\n",
    "数学问题，一般代码短，难度大：\n",
    "- 约瑟夫问题: [圆圈中最后剩下的数字](https://leetcode-cn.com/problems/yuan-quan-zhong-zui-hou-sheng-xia-de-shu-zi-lcof/)"
   ]
  },
  {
   "cell_type": "markdown",
   "metadata": {},
   "source": [
    "## 圆圈中最后剩下的数字\n",
    "\n",
    "这就是经典的约瑟夫问题，如果采用循环链表模拟，时间复杂度$O(n^2)$，容易超时。可以数学推导约瑟夫问题，将时间复杂度降到$O(n)$。\n",
    "\n",
    "n代表序列长度，m代表删除的间隔，我们利用$y_n = f(n, m)$表示最终保留元素的下标，注意，$y_n$的含义是：从当前下标为$0$的元素开始，向后数的第y个数是最终保留元素。\n",
    "\n",
    "设想当长度为n的数组删除一个元素，该元素下标为$(m - 1) \\% n$；删除后数组长度为n-1，下标$(m-1) \\% n$是新的下标$0$，此时最终保留元素的下标就是新下标$0$向后数$y_{n-1}$的位置，即：\n",
    "$$\n",
    "y_n = [(m - 1) \\% n + y_{n-1} + 1] \\% n\n",
    "$$\n",
    "\n",
    "利用定理：\n",
    "$$\\begin{aligned}\n",
    "(a + b) \\% c &= ((a \\% c) + (b \\% c)) \\% c \\\\\n",
    "a \\% c &= (a \\% c) \\% c\n",
    "\\end{aligned}$$\n",
    "\n",
    "化简得到：\n",
    "$$\\begin{aligned}\n",
    "y_n &=[(m-1) \\% n+y_{n-1}+1] \\% n \\\\\n",
    "&=[(m-1) \\% n \\% n+(y_{n-1}+1) \\% n] \\% n \\\\\n",
    "&=[(m-1) \\% n+(y_{n-1}+1) \\%] \\% \\\\\n",
    "&=(m-1+y_{n-1}+1) \\% \\\\\n",
    "&=(m+y_{n-1}) \\% n\n",
    "\\end{aligned}$$\n",
    "\n",
    "我们得到了递归公式$y_n = (m + y_{n-1}) \\% n$，当只剩一个人时，此人存活，下标为$0$，即$y_1 = 0$，可以写出递归算法："
   ]
  },
  {
   "cell_type": "code",
   "execution_count": 1,
   "metadata": {},
   "outputs": [
    {
     "data": {
      "text/plain": [
       "3"
      ]
     },
     "execution_count": 1,
     "metadata": {},
     "output_type": "execute_result"
    }
   ],
   "source": [
    "def lastRemaining(n: int, m: int) -> int:\n",
    "    sys.setrecursionlimit(100000) # Python 默认的递归深度不够，需要手动设置\n",
    "    \n",
    "    def fun(n, m):\n",
    "        if n == 0:\n",
    "            return 0\n",
    "        else:\n",
    "            return (fun(n-1, m) + m) % n\n",
    "        \n",
    "    return fun(n, m)\n",
    "\n",
    "lastRemaining(5, 3)"
   ]
  },
  {
   "cell_type": "markdown",
   "metadata": {},
   "source": [
    "递归可能爆栈，改成递推形式更佳。"
   ]
  },
  {
   "cell_type": "code",
   "execution_count": 3,
   "metadata": {},
   "outputs": [
    {
     "data": {
      "text/plain": [
       "3"
      ]
     },
     "execution_count": 3,
     "metadata": {},
     "output_type": "execute_result"
    }
   ],
   "source": [
    "def lastRemaining(n: int, m: int) -> int:\n",
    "    ans = 0\n",
    "    for i in range(1, n+1):\n",
    "        ans = (ans + m) % i\n",
    "    return ans\n",
    "\n",
    "lastRemaining(5, 3)"
   ]
  },
  {
   "cell_type": "code",
   "execution_count": null,
   "metadata": {},
   "outputs": [],
   "source": []
  }
 ],
 "metadata": {
  "kernelspec": {
   "display_name": "Python 3",
   "language": "python",
   "name": "python3"
  },
  "language_info": {
   "codemirror_mode": {
    "name": "ipython",
    "version": 3
   },
   "file_extension": ".py",
   "mimetype": "text/x-python",
   "name": "python",
   "nbconvert_exporter": "python",
   "pygments_lexer": "ipython3",
   "version": "3.6.2"
  }
 },
 "nbformat": 4,
 "nbformat_minor": 1
}
