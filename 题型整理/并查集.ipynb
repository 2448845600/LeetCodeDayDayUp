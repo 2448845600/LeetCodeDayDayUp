{
 "cells": [
  {
   "cell_type": "markdown",
   "metadata": {
    "collapsed": true,
    "pycharm": {
     "is_executing": false,
     "name": "#%% md\n"
    }
   },
   "source": [
    "# 并查集\n",
    "在搜索中，我们已经看到了并查集的应用，现在看一下升级版，真正体现并查集威力的题目 \n",
    "- middle: https://leetcode-cn.com/problems/number-of-islands/\n",
    "- hard：https://leetcode-cn.com/problems/number-of-islands-ii/\n"
   ]
  },
  {
   "cell_type": "markdown",
   "source": [
    "## number-of-islands\n",
    "可以用DFS，BFS，并查集。并查集的思路比较巧妙，注意设置虚拟节点的手法。"
   ],
   "metadata": {
    "collapsed": false
   }
  },
  {
   "cell_type": "code",
   "execution_count": null,
   "outputs": [],
   "source": [
    "class Solution:\n",
    "    def numIslands(self, grid) -> int:\n",
    "\n",
    "        # UnionFind Set\n",
    "        class UnionFind:\n",
    "            def __init__(self, n):\n",
    "                self.count = n\n",
    "                self.parent = [i for i in range(n)]\n",
    "                self.rank = [1 for _ in range(n)]\n",
    "\n",
    "            def get_count(self):\n",
    "                return self.count\n",
    "\n",
    "            def find(self, p):\n",
    "                while p != self.parent[p]:\n",
    "                    self.parent[p] = self.parent[self.parent[p]]\n",
    "                    p = self.parent[p]\n",
    "                return p\n",
    "\n",
    "            def union(self, p, q):\n",
    "                p_root = self.find(p)\n",
    "                q_root = self.find(q)\n",
    "                if p_root == q_root: return\n",
    "\n",
    "                if self.rank[p_root] > self.rank[q_root]:\n",
    "                    self.parent[q_root] = p_root\n",
    "                    self.rank[p_root] += 1\n",
    "                else:\n",
    "                    self.parent[p_root] = q_root\n",
    "                    self.rank[q_root] += 1\n",
    "\n",
    "                self.count -= 1\n",
    "\n",
    "        # main\n",
    "        row = len(grid)\n",
    "        if row == 0:\n",
    "            return 0\n",
    "        col = len(grid[0])\n",
    "\n",
    "        def get_index(x, y):\n",
    "            return x * col + y\n",
    "\n",
    "        # 实际节点编号从 0 ~ row*col-1，虚拟节点编号row * col\n",
    "        dummy_node = row * col  # 多出来的一个节点，虚拟节点\n",
    "        uf = UnionFind(dummy_node + 1)  # 多开一个空间，把水域 \"0\" 都归到这个虚拟节点\n",
    "        for i in range(row):\n",
    "            for j in range(col):\n",
    "                if grid[i][j] == '0':\n",
    "                    uf.union(get_index(i, j), dummy_node)\n",
    "                else:\n",
    "                    for dx, dy in [[1, 0], [0, 1]]:\n",
    "                        new_x = i + dx\n",
    "                        new_y = j + dy\n",
    "                        if new_x < row and new_y < col and grid[new_x][new_y] == '1':\n",
    "                            uf.union(get_index(i, j), get_index(new_x, new_y))\n",
    "\n",
    "        return uf.get_count() - 1  # 删除虚拟节点\n",
    "\n",
    "if __name__ == '__main__':\n",
    "    s = Solution()\n",
    "    grid = [[\"1\", \"1\", \"1\", \"1\", \"0\"], [\"1\", \"1\", \"0\", \"1\", \"0\"], [\"1\", \"1\", \"0\", \"0\", \"0\"], [\"0\", \"0\", \"0\", \"0\", \"0\"]]\n",
    "    print(s.numIslandsBFS(grid))"
   ],
   "metadata": {
    "collapsed": false,
    "pycharm": {
     "name": "#%%\n"
    }
   }
  },
  {
   "cell_type": "markdown",
   "source": [
    "## number-of-islands-ii\n",
    "由于多次改变每个点的性质，所以必须要用并查集或者并查集结构的DFS"
   ],
   "metadata": {
    "collapsed": false,
    "pycharm": {
     "name": "#%% md\n",
     "is_executing": false
    }
   }
  },
  {
   "cell_type": "code",
   "source": [
    "class Solution:\n",
    "    def numIslands2(self, m: int, n: int, positions):\n",
    "        class UnionFind:\n",
    "            def __init__(self, n):\n",
    "                self.count = 0\n",
    "                self.parent = [-1 for i in range(n)]\n",
    "                self.rank = [1 for _ in range(n)]\n",
    "\n",
    "            def get_count(self):\n",
    "                return self.count\n",
    "\n",
    "            def set_parent(self, i, p):\n",
    "                self.parent[i] = p\n",
    "                self.count += 1\n",
    "\n",
    "            def find(self, p):\n",
    "                while p != self.parent[p]:\n",
    "                    self.parent[p] = self.parent[self.parent[p]]\n",
    "                    p = self.parent[p]\n",
    "                return p\n",
    "\n",
    "            def union(self, p, q):\n",
    "                p_root = self.find(p)\n",
    "                q_root = self.find(q)\n",
    "                if p_root == q_root: return\n",
    "\n",
    "                if self.rank[p_root] > self.rank[q_root]:\n",
    "                    self.parent[q_root] = p_root\n",
    "                    self.rank[p_root] += 1\n",
    "                else:\n",
    "                    self.parent[p_root] = q_root\n",
    "                    self.rank[q_root] += 1\n",
    "\n",
    "                self.count -= 1\n",
    "\n",
    "        # main function\n",
    "        grid = [[False for _ in range(n)] for _ in range(m)]\n",
    "        uf = UnionFind(m * n)\n",
    "        get_index = lambda x, y: x * n + y\n",
    "\n",
    "        res = []\n",
    "        for x, y in positions:\n",
    "            if not grid[x][y]:\n",
    "                grid[x][y] = True\n",
    "                uf.set_parent(get_index(x, y), get_index(x, y))\n",
    "                for dx, dy in [[0, 1], [0, -1], [1, 0], [-1, 0]]:\n",
    "                    nx = x + dx\n",
    "                    ny = y + dy\n",
    "                    if 0 <= nx < m and 0 <= ny < n and grid[nx][ny]:\n",
    "                        uf.union(get_index(x, y), get_index(nx, ny))\n",
    "            res.append(uf.count)\n",
    "        return res\n",
    "\n",
    "if __name__ == '__main__':\n",
    "    s = Solution()\n",
    "    print(s.numIslands2(3, 3, [[0, 0], [0, 1], [1, 2], [1, 2]]))\n",
    "    print(s.numIslands2(3, 3, [[0, 0], [0, 1], [1, 2], [2, 1]]))"
   ],
   "metadata": {
    "collapsed": false,
    "pycharm": {
     "name": "#%%\n"
    }
   },
   "execution_count": null,
   "outputs": []
  },
  {
   "cell_type": "markdown",
   "source": [
    "## 注意：\n",
    "1. 并查集的初始化。两道题的初始化策略不同\n",
    "2. 并查集实现效率。\n",
    "\n"
   ],
   "metadata": {
    "collapsed": false
   }
  }
 ],
 "metadata": {
  "kernelspec": {
   "display_name": "Python 3",
   "language": "python",
   "name": "python3"
  },
  "language_info": {
   "codemirror_mode": {
    "name": "ipython",
    "version": 2
   },
   "file_extension": ".py",
   "mimetype": "text/x-python",
   "name": "python",
   "nbconvert_exporter": "python",
   "pygments_lexer": "ipython2",
   "version": "2.7.6"
  },
  "pycharm": {
   "stem_cell": {
    "cell_type": "raw",
    "source": [],
    "metadata": {
     "collapsed": false
    }
   }
  }
 },
 "nbformat": 4,
 "nbformat_minor": 0
}