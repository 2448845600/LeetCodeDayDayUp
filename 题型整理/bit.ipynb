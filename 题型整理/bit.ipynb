{
 "cells": [
  {
   "cell_type": "code",
   "execution_count": 1,
   "metadata": {},
   "outputs": [],
   "source": [
    "# 位运算"
   ]
  },
  {
   "cell_type": "code",
   "execution_count": 5,
   "metadata": {},
   "outputs": [
    {
     "data": {
      "text/plain": [
       "(1, 2, 15)"
      ]
     },
     "execution_count": 5,
     "metadata": {},
     "output_type": "execute_result"
    }
   ],
   "source": [
    "## 常见位运算\n",
    "'''\n",
    "在python中，给数字加上前缀 '0b' 表示是二进制数字，如下所示\n",
    "\n",
    "python中的十六进制和八进制数字的前缀分别为 '0x' 和 '0'\n",
    "'''\n",
    "a = 0b1\n",
    "b = 0b10\n",
    "c = 0b1111\n",
    "a,b,c\n",
    "'''"
   ]
  },
  {
   "cell_type": "code",
   "execution_count": 53,
   "metadata": {},
   "outputs": [
    {
     "name": "stdout",
     "output_type": "stream",
     "text": [
      "bit_num_a=9, bit_num_b=6\n",
      "bit_num_a=2, bit_num_b=24\n",
      "0b1 & 0b1=0b1\n",
      "0b1 & 0b0=0b0\n",
      "0b001 & 0100=0b0\n",
      "0b011 & 0b010=0b10\n",
      "0b1 | 0b0=0b1\n",
      "0b1000 | 0b0111=0b1111\n",
      "0b1010 | 0b1100=0b1110\n",
      "~8=-9\n",
      "0b1111^0b1=0b1110\n",
      "0b1111^0b0101=0b1010\n"
     ]
    }
   ],
   "source": [
    "'''\n",
    "1. x >> y # 返回 x 向右移 y 位得到的结果\n",
    "2. x << y # 返回 x 向左移 y 位得到的结果\n",
    "3. x & y # 且操作，返回结果的每一位是 x 和 y 中对应位做 and 运算的结果，存在相同位均为1的，返回1，其他情况返回0\n",
    "4. x | y # 或操作，返回结果的每一位是 x 和 y 中对应位做 or 运算的结果，只有 0 or 0 = 0，其他情况位1\n",
    "5. ~x # 反转操作，对 x 求的每一位求补，只需记住结果是 -x - 1\n",
    "6. x ^ y # 或非运算，如果 y 对应位是0，那么结果位取 x 的对应位，如果 y 对应位是1，取 x 对应位的补\n",
    "'''\n",
    "#### 赋值\n",
    "bit_num_a = 0b1001\n",
    "bit_num_b = 0b0110\n",
    "print(\"bit_num_a={}, bit_num_b={}\".format(bit_num_a, bit_num_b))\n",
    "\n",
    "#### 移位\n",
    "bit_num_a = bit_num_a >> 2\n",
    "bit_num_b = bit_num_b << 2\n",
    "print(\"bit_num_a={}, bit_num_b={}\".format(bit_num_a, bit_num_b))\n",
    "\n",
    "#### 且\n",
    "print(\"0b1 & 0b1={}\".format(bin(0b1 & 0b1)))\n",
    "print(\"0b1 & 0b0={}\".format(bin(0b1 & 0b0)))\n",
    "print(\"0b001 & 0100={}\".format(bin(0b001 & 0b000))) # 两个数字的且操作，即对每一位进行且操作取结果\n",
    "print(\"0b011 & 0b010={}\".format(bin(0b011 & 0b010)))\n",
    "\n",
    "#### 或\n",
    "print(\"0b1 | 0b0={}\".format(bin(0b1 | 0b0)))\n",
    "print(\"0b1000 | 0b0111={}\".format(bin(0b1000 | 0b0111)))\n",
    "print(\"0b1010 | 0b1100={}\".format(bin(0b1010 | 0b1100)))\n",
    "\n",
    "#### 反转\n",
    "print(\"~8={}\".format(~8))\n",
    "\n",
    "#### 或非\n",
    "print(\"0b1111^0b1={}\".format(bin(0b1111 ^ 0b1))) # 自动填0\n",
    "print(\"0b1111^0b0101={}\".format(bin(0b1111 ^ 0b0101)))"
   ]
  },
  {
   "cell_type": "code",
   "execution_count": 2,
   "metadata": {},
   "outputs": [
    {
     "data": {
      "text/plain": [
       "'\\nhttps://leetcode-cn.com/problems/maximum-product-of-word-lengths/\\n'"
      ]
     },
     "execution_count": 2,
     "metadata": {},
     "output_type": "execute_result"
    }
   ],
   "source": [
    "## id 318\n",
    "'''\n",
    "https://leetcode-cn.com/problems/maximum-product-of-word-lengths/\n",
    "'''https://leetcode-cn.com/problems/maximum-product-of-word-lengths/"
   ]
  },
  {
   "cell_type": "code",
   "execution_count": 3,
   "metadata": {},
   "outputs": [
    {
     "name": "stdout",
     "output_type": "stream",
     "text": [
      "16\n"
     ]
    }
   ],
   "source": [
    "### naive\n",
    "class Solution:\n",
    "    def maxProduct(self, words) -> int:\n",
    "        bitmasks = []\n",
    "        for word in words:\n",
    "            bitmask = 0\n",
    "            for ch in word:\n",
    "                bitmask |= 1 << (ord(ch) - ord(\"a\"))\n",
    "            bitmasks.append(bitmask)\n",
    "\n",
    "        max_res = 0\n",
    "        for i in range(len(words)):\n",
    "            for j in range(i + 1, len(words)):\n",
    "                if bitmasks[i] & bitmasks[j] == 0:\n",
    "                    max_res = max(max_res, len(words[i]) * len(words[j]))\n",
    "\n",
    "        return max_res\n",
    "\n",
    "\n",
    "if __name__ == '__main__':\n",
    "    s = Solution()\n",
    "    print(s.maxProduct([\"abcw\", \"baz\", \"foo\", \"bar\", \"xtfn\", \"abcdef\"]))"
   ]
  },
  {
   "cell_type": "code",
   "execution_count": 4,
   "metadata": {},
   "outputs": [
    {
     "name": "stdout",
     "output_type": "stream",
     "text": [
      "16\n"
     ]
    }
   ],
   "source": [
    "### 位运算+hash\n",
    "'''\n",
    "abc，aaabc两个二进制串是一样的，我们只需要记录长的单词即可。\n",
    "'''\n",
    "class Solution:\n",
    "    def maxProduct(self, words) -> int:\n",
    "        hashbitmasks = {}\n",
    "        for word in words:\n",
    "            bitmask = 0\n",
    "            for ch in word:\n",
    "                bitmask |= 1 << (ord(ch) - ord(\"a\"))\n",
    "            hashbitmasks[bitmask] = max(hashbitmasks.get(bitmask, 0), len(word))\n",
    "\n",
    "        max_res = 0\n",
    "        bitmasks = list(hashbitmasks.keys())\n",
    "        for i in range(len(bitmasks)):\n",
    "            for j in range(i + 1, len(bitmasks)):\n",
    "                if bitmasks[i] & bitmasks[j] == 0:\n",
    "                    max_res = max(max_res, hashbitmasks[bitmasks[i]] * hashbitmasks[bitmasks[j]])\n",
    "\n",
    "        return max_res\n",
    "    \n",
    "if __name__ == '__main__':\n",
    "    s = Solution()\n",
    "    print(s.maxProduct([\"abcw\", \"baz\", \"foo\", \"bar\", \"xtfn\", \"abcdef\"]))"
   ]
  },
  {
   "cell_type": "code",
   "execution_count": null,
   "metadata": {},
   "outputs": [],
   "source": []
  }
 ],
 "metadata": {
  "kernelspec": {
   "display_name": "Python 3",
   "language": "python",
   "name": "python3"
  },
  "language_info": {
   "codemirror_mode": {
    "name": "ipython",
    "version": 3
   },
   "file_extension": ".py",
   "mimetype": "text/x-python",
   "name": "python",
   "nbconvert_exporter": "python",
   "pygments_lexer": "ipython3",
   "version": "3.6.2"
  }
 },
 "nbformat": 4,
 "nbformat_minor": 4
}
