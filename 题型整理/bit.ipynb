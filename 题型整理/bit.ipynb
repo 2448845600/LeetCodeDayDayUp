{
 "cells": [
  {
   "cell_type": "code",
   "execution_count": 1,
   "metadata": {},
   "outputs": [],
   "source": [
    "# 位运算"
   ]
  },
  {
   "cell_type": "code",
   "execution_count": 2,
   "metadata": {},
   "outputs": [
    {
     "data": {
      "text/plain": [
       "'\\nhttps://leetcode-cn.com/problems/maximum-product-of-word-lengths/\\n'"
      ]
     },
     "execution_count": 2,
     "metadata": {},
     "output_type": "execute_result"
    }
   ],
   "source": [
    "## id 318\n",
    "'''\n",
    "https://leetcode-cn.com/problems/maximum-product-of-word-lengths/\n",
    "'''"
   ]
  },
  {
   "cell_type": "code",
   "execution_count": 3,
   "metadata": {},
   "outputs": [
    {
     "name": "stdout",
     "output_type": "stream",
     "text": [
      "16\n"
     ]
    }
   ],
   "source": [
    "### naive\n",
    "class Solution:\n",
    "    def maxProduct(self, words) -> int:\n",
    "        bitmasks = []\n",
    "        for word in words:\n",
    "            bitmask = 0\n",
    "            for ch in word:\n",
    "                bitmask |= 1 << (ord(ch) - ord(\"a\"))\n",
    "            bitmasks.append(bitmask)\n",
    "\n",
    "        max_res = 0\n",
    "        for i in range(len(words)):\n",
    "            for j in range(i + 1, len(words)):\n",
    "                if bitmasks[i] & bitmasks[j] == 0:\n",
    "                    max_res = max(max_res, len(words[i]) * len(words[j]))\n",
    "\n",
    "        return max_res\n",
    "\n",
    "\n",
    "if __name__ == '__main__':\n",
    "    s = Solution()\n",
    "    print(s.maxProduct([\"abcw\", \"baz\", \"foo\", \"bar\", \"xtfn\", \"abcdef\"]))"
   ]
  },
  {
   "cell_type": "code",
   "execution_count": 4,
   "metadata": {},
   "outputs": [
    {
     "name": "stdout",
     "output_type": "stream",
     "text": [
      "16\n"
     ]
    }
   ],
   "source": [
    "### 位运算+hash\n",
    "'''\n",
    "abc，aaabc两个二进制串是一样的，我们只需要记录长的单词即可。\n",
    "'''\n",
    "class Solution:\n",
    "    def maxProduct(self, words) -> int:\n",
    "        hashbitmasks = {}\n",
    "        for word in words:\n",
    "            bitmask = 0\n",
    "            for ch in word:\n",
    "                bitmask |= 1 << (ord(ch) - ord(\"a\"))\n",
    "            hashbitmasks[bitmask] = max(hashbitmasks.get(bitmask, 0), len(word))\n",
    "\n",
    "        max_res = 0\n",
    "        bitmasks = list(hashbitmasks.keys())\n",
    "        for i in range(len(bitmasks)):\n",
    "            for j in range(i + 1, len(bitmasks)):\n",
    "                if bitmasks[i] & bitmasks[j] == 0:\n",
    "                    max_res = max(max_res, hashbitmasks[bitmasks[i]] * hashbitmasks[bitmasks[j]])\n",
    "\n",
    "        return max_res\n",
    "    \n",
    "if __name__ == '__main__':\n",
    "    s = Solution()\n",
    "    print(s.maxProduct([\"abcw\", \"baz\", \"foo\", \"bar\", \"xtfn\", \"abcdef\"]))"
   ]
  },
  {
   "cell_type": "code",
   "execution_count": null,
   "metadata": {},
   "outputs": [],
   "source": []
  }
 ],
 "metadata": {
  "kernelspec": {
   "display_name": "Python 3",
   "language": "python",
   "name": "python3"
  },
  "language_info": {
   "codemirror_mode": {
    "name": "ipython",
    "version": 3
   },
   "file_extension": ".py",
   "mimetype": "text/x-python",
   "name": "python",
   "nbconvert_exporter": "python",
   "pygments_lexer": "ipython3",
   "version": "3.6.2"
  }
 },
 "nbformat": 4,
 "nbformat_minor": 4
}
