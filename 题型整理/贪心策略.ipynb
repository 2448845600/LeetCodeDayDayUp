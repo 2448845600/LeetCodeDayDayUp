{
 "cells": [
  {
   "cell_type": "markdown",
   "metadata": {
    "collapsed": true,
    "pycharm": {
     "name": "#%% md\n"
    }
   },
   "source": [
    "# 贪心策略\n",
    "\n",
    "贪心策略一般在复杂度和实现上都比较优越，而且需要证明正确性（在比赛中一般靠直觉）。解题时，可以先思考一种简单但是不够高效的算法，在再凭借直觉改进为贪心算法。\n",
    "有些题目主要运用了数学推导以降低时间复杂度，但是算作贪心亦可。\n",
    "\n",
    "- [1013 将数组分成相等的三个部分](https://leetcode-cn.com/problems/partition-array-into-three-parts-with-equal-sum/)\n",
    "- [1071 字符串的最大公因子](https://leetcode-cn.com/problems/greatest-common-divisor-of-strings/)\n",
    "- [300 最长上升子序列](https://leetcode-cn.com/problems/longest-increasing-subsequence/)"
   ]
  },
  {
   "cell_type": "markdown",
   "metadata": {
    "pycharm": {
     "name": "#%% md\n"
    }
   },
   "source": [
    "## 将数组分成相等的三个部分\n",
    "\n",
    "这道题可以很快想到双指针的方法，时间复杂度为$O(n^2)$，"
   ]
  },
  {
   "cell_type": "code",
   "execution_count": 1,
   "metadata": {
    "pycharm": {
     "is_executing": false,
     "name": "#%%\n"
    }
   },
   "outputs": [
    {
     "name": "stdout",
     "text": [
      "True\n"
     ],
     "output_type": "stream"
    }
   ],
   "source": [
    "def canThreePartsEqualSum(A) -> bool:\n",
    "    def step_add(A):\n",
    "        n = len(A)\n",
    "        b = [0 for _ in range(n)]\n",
    "        b[0] = A[0]\n",
    "        for i in range(1, n):\n",
    "            b[i] = b[i - 1] + A[i]\n",
    "\n",
    "        return b\n",
    "\n",
    "    n = len(A)\n",
    "    all_sum = sum(A)\n",
    "    left_sum = step_add(A)\n",
    "    right_sum = step_add(A[::-1])\n",
    "\n",
    "    for i in range(n - 2):\n",
    "        for j in range(n - 2 - i):\n",
    "            if left_sum[i] == right_sum[j] and left_sum[i] == (all_sum - left_sum[i] - right_sum[j]):\n",
    "                return True\n",
    "    return False\n",
    "\n",
    "\n",
    "print(canThreePartsEqualSum([0, 2, 1, -6, 6, -7, 9, 1, 2, 0, 1]))"
   ]
  },
  {
   "cell_type": "markdown",
   "metadata": {
    "pycharm": {
     "name": "#%% md\n"
    }
   },
   "source": [
    "这样是会超时，可以通过以下两点剪枝：\n",
    "1. 都是整数，如果数组的和不是3的倍数，则不能三等分\n",
    "2. 每个部分都必须等于 sum / 3"
   ]
  },
  {
   "cell_type": "code",
   "execution_count": 2,
   "metadata": {
    "pycharm": {
     "name": "#%%\n",
     "is_executing": false
    }
   },
   "outputs": [
    {
     "name": "stdout",
     "text": [
      "True\n"
     ],
     "output_type": "stream"
    }
   ],
   "source": [
    "def canThreePartsEqualSum(A) -> bool:\n",
    "    def step_add(A):\n",
    "        n = len(A)\n",
    "        b = [0 for _ in range(n)]\n",
    "        b[0] = A[0]\n",
    "        for i in range(1, n):\n",
    "            b[i] = b[i - 1] + A[i]\n",
    "        return b\n",
    "\n",
    "    n = len(A)\n",
    "    all_sum = sum(A)\n",
    "\n",
    "    if all_sum % 3 != 0:\n",
    "        return False\n",
    "\n",
    "    one_three_sum = all_sum // 3\n",
    "    left_sum = step_add(A)\n",
    "    right_sum = step_add(A[::-1])\n",
    "    for i in range(n - 2):\n",
    "        if left_sum[i] == one_three_sum:\n",
    "            for j in range(n - 2 - i):\n",
    "                if right_sum[j] == one_three_sum:\n",
    "                    return True\n",
    "    return False\n",
    "\n",
    "print(canThreePartsEqualSum([0, 2, 1, -6, 6, -7, 9, 1, 2, 0, 1]))"
   ]
  },
  {
   "cell_type": "markdown",
   "metadata": {
    "pycharm": {
     "is_executing": false,
     "name": "#%% md\n"
    }
   },
   "source": [
    "到这里，已经AC。但是，这道题可以通过贪心策略实现O(n)的时间复杂度，并且迁移到任意等分。\n",
    "\n",
    "以k等分为例，从左往右累加，当和为$\\frac{sum}{k}$，累加和清零后继续，遍历中，如果存在k个等分点（或存在k-1个等分点且尚未遍历到数组末尾），即表示可k等分。"
   ]
  },
  {
   "cell_type": "code",
   "execution_count": 3,
   "metadata": {
    "pycharm": {
     "is_executing": false,
     "name": "#%%\n"
    }
   },
   "outputs": [
    {
     "name": "stdout",
     "text": [
      "True\n"
     ],
     "output_type": "stream"
    }
   ],
   "source": [
    "def canThreePartsEqualSum(A) -> bool:\n",
    "        n = len(A)\n",
    "        all_sum = sum(A)\n",
    "\n",
    "        if all_sum % 3 != 0:\n",
    "            return False\n",
    "\n",
    "        one_three_sum = all_sum // 3\n",
    "        k = 0\n",
    "        part_sum = 0\n",
    "        for a in A:\n",
    "            part_sum += a\n",
    "            if part_sum == one_three_sum:\n",
    "                k += 1\n",
    "                part_sum = 0\n",
    "            if k == 3:\n",
    "                return True\n",
    "        return False\n",
    "    \n",
    "print(canThreePartsEqualSum([0, 2, 1, -6, 6, -7, 9, 1, 2, 0, 1]))"
   ]
  },
  {
   "cell_type": "markdown",
   "metadata": {
    "pycharm": {
     "name": "#%% md\n"
    }
   },
   "source": [
    "## 字符串的最大公因子\n",
    "这道题目不难，枚举也可以AC，但是题解中的方法非常秀。\n",
    "\n",
    "[题解-证明](https://leetcode-cn.com/problems/greatest-common-divisor-of-strings/solution/zi-fu-chuan-de-zui-da-gong-yin-zi-by-leetcode-solu/)\n"
   ]
  },
  {
   "cell_type": "code",
   "execution_count": 4,
   "metadata": {
    "pycharm": {
     "is_executing": false,
     "name": "#%%\n"
    }
   },
   "outputs": [
    {
     "name": "stdout",
     "text": [
      "ABC\n"
     ],
     "output_type": "stream"
    }
   ],
   "source": [
    "import math\n",
    "\n",
    "def gcdOfStrings(str1: str, str2: str) -> str:\n",
    "    gcd = math.gcd(len(str1), len(str2))\n",
    "    if str1[0:gcd]*(len(str1)//gcd) == str1 and str1[0:gcd]*(len(str2)//gcd) == str2:\n",
    "        return str1[0:gcd]\n",
    "    return \"\"\n",
    "\n",
    "print(gcdOfStrings(str1=\"ABCABC\", str2=\"ABC\"))"
   ]
  },
  {
   "cell_type": "markdown",
   "metadata": {},
   "source": [
    "这还不够，还可以更秀，复杂度$\\downnarrow$，代码行数$\\downnarrow$。\n",
    "\n",
    "贪心策略："
   ]
  },
  {
   "cell_type": "code",
   "execution_count": 8,
   "metadata": {
    "pycharm": {
     "name": "#%%\n",
     "is_executing": false
    }
   },
   "outputs": [
    {
     "name": "stdout",
     "text": [
      "ABC\n",
      "ABC\n"
     ],
     "output_type": "stream"
    }
   ],
   "source": [
    "import math\n",
    "\n",
    "def gcdOfStrings(str1: str, str2: str) -> str:\n",
    "    gcd = math.gcd(len(str1), len(str2))\n",
    "    if str1 + str2 == str2 + str1:\n",
    "        return str1[0:gcd]\n",
    "    return \"\"\n",
    "print(gcdOfStrings(str1=\"ABCABC\", str2=\"ABC\"))\n",
    "\n",
    "def gcdOfStringsOneLineCode(str1: str, str2: str) -> str:\n",
    "    return str1[0: math.gcd(len(str1), len(str2))] if str1 + str2 == str2 + str1 else \"\"\n",
    "print(gcdOfStringsOneLineCode(str1=\"ABCABC\", str2=\"ABC\"))\n"
   ]
  },
  {
   "cell_type": "markdown",
   "source": [
    "## 最长上升子序列\n",
    "可以简单的设计一个$O(n^2)$的动态规划算法，但是“稍加”思索，我们就可以得到$O(nlogn)$的算法。\n",
    "\n",
    "贪心策略：要使上升子序列尽可能的长，则需要让序列上升得尽可能慢，因此希望每次在上升子序列最后加上的那个数尽可能的小。\n",
    "\n",
    "数组tmp[i]存储长度为$i+1$的序列的最后一个元素，遍历数字$nums$，如果：\n",
    "1. if nums[i] > tmp[-1]，说明出现了长度为 len(tmp) + 1 的序列，tmp.append(nums[i])\n",
    "2. else，某个长度的序列最后一个元素需要被修改，可用二分查找"
   ],
   "metadata": {
    "collapsed": false
   }
  },
  {
   "cell_type": "code",
   "execution_count": 9,
   "outputs": [
    {
     "data": {
      "text/plain": "4"
     },
     "metadata": {},
     "output_type": "execute_result",
     "execution_count": 9
    }
   ],
   "source": [
    "def lengthOfLIS(nums) -> int:\n",
    "    import bisect\n",
    "    tmp = []\n",
    "    for i in range(len(nums)):\n",
    "        j = bisect.bisect_left(tmp, nums[i])\n",
    "        if j >= len(tmp):\n",
    "            tmp.append(nums[i])\n",
    "        else:\n",
    "            tmp[j] = nums[i]\n",
    "    return len(tmp)\n",
    "\n",
    "lengthOfLIS(nums=[10,9,2,5,3,7,101,18])       \n"
   ],
   "metadata": {
    "collapsed": false,
    "pycharm": {
     "name": "#%%\n",
     "is_executing": false
    }
   }
  }
 ],
 "metadata": {
  "kernelspec": {
   "display_name": "Python 3",
   "language": "python",
   "name": "python3"
  },
  "language_info": {
   "codemirror_mode": {
    "name": "ipython",
    "version": 3
   },
   "file_extension": ".py",
   "mimetype": "text/x-python",
   "name": "python",
   "nbconvert_exporter": "python",
   "pygments_lexer": "ipython3",
   "version": "3.6.2"
  },
  "pycharm": {
   "stem_cell": {
    "cell_type": "raw",
    "source": [],
    "metadata": {
     "collapsed": false
    }
   }
  }
 },
 "nbformat": 4,
 "nbformat_minor": 1
}