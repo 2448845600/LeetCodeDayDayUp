{
 "cells": [
  {
   "cell_type": "markdown",
   "metadata": {
    "collapsed": true,
    "pycharm": {
     "name": "#%% md\n"
    }
   },
   "source": [
    "# 贪心策略\n",
    "\n",
    "贪心策略一般在复杂度和实现上都比较优越，而且需要证明正确性（在比赛中一般靠直觉）。解题时，可以先思考一种简单但是不够高效的算法，在再凭借直觉改进为贪心算法。\n",
    "\n",
    "- [1013 将数组分成相等的三个部分]:(https://leetcode-cn.com/problems/partition-array-into-three-parts-with-equal-sum/)"
   ]
  },
  {
   "cell_type": "markdown",
   "metadata": {
    "pycharm": {
     "name": "#%% md\n"
    }
   },
   "source": [
    "## 将数组分成相等的三个部分\n",
    "\n",
    "这道题可以很快想到双指针的方法，时间复杂度为$O(n^2)$，"
   ]
  },
  {
   "cell_type": "code",
   "execution_count": 3,
   "metadata": {
    "pycharm": {
     "is_executing": false,
     "name": "#%%\n"
    }
   },
   "outputs": [
    {
     "name": "stdout",
     "output_type": "stream",
     "text": [
      "True\n"
     ]
    }
   ],
   "source": [
    "def canThreePartsEqualSum(A) -> bool:\n",
    "    def step_add(A):\n",
    "        n = len(A)\n",
    "        b = [0 for _ in range(n)]\n",
    "        b[0] = A[0]\n",
    "        for i in range(1, n):\n",
    "            b[i] = b[i - 1] + A[i]\n",
    "\n",
    "        return b\n",
    "\n",
    "    n = len(A)\n",
    "    all_sum = sum(A)\n",
    "    left_sum = step_add(A)\n",
    "    right_sum = step_add(A[::-1])\n",
    "\n",
    "    for i in range(n - 2):\n",
    "        for j in range(n - 2 - i):\n",
    "            if left_sum[i] == right_sum[j] and left_sum[i] == (all_sum - left_sum[i] - right_sum[j]):\n",
    "                return True\n",
    "    return False\n",
    "\n",
    "\n",
    "print(canThreePartsEqualSum([0, 2, 1, -6, 6, -7, 9, 1, 2, 0, 1]))"
   ]
  },
  {
   "cell_type": "markdown",
   "metadata": {
    "pycharm": {
     "name": "#%% md\n"
    }
   },
   "source": [
    "这样是会超时，可以通过以下两点剪枝：\n",
    "1. 都是整数，如果数组的和不是3的倍数，则不能三等分\n",
    "2. 每个部分都必须等于 sum / 3"
   ]
  },
  {
   "cell_type": "code",
   "execution_count": 1,
   "metadata": {
    "pycharm": {
     "name": "#%%\n"
    }
   },
   "outputs": [
    {
     "name": "stdout",
     "output_type": "stream",
     "text": [
      "True\n"
     ]
    }
   ],
   "source": [
    "def canThreePartsEqualSum(A) -> bool:\n",
    "    def step_add(A):\n",
    "        n = len(A)\n",
    "        b = [0 for _ in range(n)]\n",
    "        b[0] = A[0]\n",
    "        for i in range(1, n):\n",
    "            b[i] = b[i - 1] + A[i]\n",
    "        return b\n",
    "\n",
    "    n = len(A)\n",
    "    all_sum = sum(A)\n",
    "\n",
    "    if all_sum % 3 != 0:\n",
    "        return False\n",
    "\n",
    "    one_three_sum = all_sum // 3\n",
    "    left_sum = step_add(A)\n",
    "    right_sum = step_add(A[::-1])\n",
    "    for i in range(n - 2):\n",
    "        if left_sum[i] == one_three_sum:\n",
    "            for j in range(n - 2 - i):\n",
    "                if right_sum[j] == one_three_sum:\n",
    "                    return True\n",
    "    return False\n",
    "\n",
    "print(canThreePartsEqualSum([0, 2, 1, -6, 6, -7, 9, 1, 2, 0, 1]))"
   ]
  },
  {
   "cell_type": "markdown",
   "metadata": {
    "pycharm": {
     "is_executing": false,
     "name": "#%% md\n"
    }
   },
   "source": [
    "到这里，已经AC。但是，这道题可以通过贪心策略实现O(n)的时间复杂度，并且迁移到任意等分。\n",
    "\n",
    "以k等分为例，从左往右累加，当和为$\\frac{sum}{k}$，累加和清零后继续，遍历中，如果存在k个等分点（或存在k-1个等分点且尚未遍历到数组末尾），即表示可k等分。"
   ]
  },
  {
   "cell_type": "code",
   "execution_count": 2,
   "metadata": {
    "pycharm": {
     "is_executing": false,
     "name": "#%%\n"
    }
   },
   "outputs": [
    {
     "name": "stdout",
     "output_type": "stream",
     "text": [
      "True\n"
     ]
    }
   ],
   "source": [
    "def canThreePartsEqualSum(A) -> bool:\n",
    "        n = len(A)\n",
    "        all_sum = sum(A)\n",
    "\n",
    "        if all_sum % 3 != 0:\n",
    "            return False\n",
    "\n",
    "        one_three_sum = all_sum // 3\n",
    "        k = 0\n",
    "        part_sum = 0\n",
    "        for a in A:\n",
    "            part_sum += a\n",
    "            if part_sum == one_three_sum:\n",
    "                k += 1\n",
    "                part_sum = 0\n",
    "            if k == 3:\n",
    "                return True\n",
    "        return False\n",
    "    \n",
    "print(canThreePartsEqualSum([0, 2, 1, -6, 6, -7, 9, 1, 2, 0, 1]))\n"
   ]
  }
 ],
 "metadata": {
  "kernelspec": {
   "display_name": "Python 3",
   "language": "python",
   "name": "python3"
  },
  "language_info": {
   "codemirror_mode": {
    "name": "ipython",
    "version": 3
   },
   "file_extension": ".py",
   "mimetype": "text/x-python",
   "name": "python",
   "nbconvert_exporter": "python",
   "pygments_lexer": "ipython3",
   "version": "3.6.2"
  },
  "pycharm": {
   "stem_cell": {
    "cell_type": "raw",
    "metadata": {
     "collapsed": false
    },
    "source": []
   }
  }
 },
 "nbformat": 4,
 "nbformat_minor": 1
}
