{
 "cells": [
  {
   "cell_type": "markdown",
   "metadata": {
    "collapsed": true,
    "pycharm": {
     "name": "#%% md\n"
    }
   },
   "source": [
    "# 字符串\n",
    "字符串的题目很多，复杂题目常常是以下类型相互融合：\n",
    "- 前后缀\n",
    "- 回文串\n",
    "- 串匹配\n",
    "\n",
    "- [单词的压缩编码](https://leetcode-cn.com/problems/short-encoding-of-words/)"
   ]
  },
  {
   "cell_type": "markdown",
   "metadata": {
    "pycharm": {
     "is_executing": false,
     "name": "#%% md\n"
    }
   },
   "source": [
    "## 单词的压缩编码\n",
    "[此题](https://leetcode-cn.com/problems/short-encoding-of-words/)的本质是：判断“当前字符串是否为其他字符串的后缀”。由于测试样例比较小，所以解法多样，主要介绍反转排序和字典树两种方法：\n",
    "\n",
    "**反转排序**的思路比较有趣：\n",
    "1. 删除重复串；\n",
    "2. 反转串；\n",
    "3. 判断$s[i]$是否为$s[i+1]$的前缀。\n",
    "\n",
    "时间开销主要是排序，不清楚具体的多键排序是如何实现的。以快排为例，时间复杂度猜测为$n\\log{n}*l$，$n$为字符串个数，$l$为单个字符串的平均长度。"
   ]
  },
  {
   "cell_type": "code",
   "execution_count": 4,
   "metadata": {
    "pycharm": {
     "is_executing": false,
     "name": "#%%\n"
    }
   },
   "outputs": [
    {
     "data": {
      "text/plain": [
       "10"
      ]
     },
     "execution_count": 4,
     "metadata": {},
     "output_type": "execute_result"
    }
   ],
   "source": [
    "def minimumLengthEncoding(words) -> int:\n",
    "    words = sorted(list(map(lambda s: s[::-1], set(words))))\n",
    "    ans = [words[-1]]\n",
    "    for i in range(len(words) - 1):\n",
    "        if words[i] not in words[i + 1]:\n",
    "            ans.append(words[i])\n",
    "    return sum([len(_) + 1 for _ in ans])\n",
    "\n",
    "minimumLengthEncoding(words=[\"time\", \"me\", \"bell\"])"
   ]
  },
  {
   "cell_type": "markdown",
   "metadata": {},
   "source": [
    "**字典树**是处理字符串前后缀的常用数据结构。LeetCode题解过于pythonic，自己写了个正常的字典树解法。尴尬的是，LeetCode运行时间比暴力还慢（主要是数据量太小）。\n",
    "1. 删除重复串；\n",
    "2. 反转串；\n",
    "3. 建立字典树；\n",
    "2. 逐个字符串判断是否为一条从根节点到叶子节点的路径，是则累加长度。\n",
    "\n",
    "时间复杂度是$O(\\sum w_i)$，其中$w_i$是$words[i]$的长度，即对于每个单词中的每个字母，只需要进行常数次操作。"
   ]
  },
  {
   "cell_type": "code",
   "execution_count": 5,
   "metadata": {},
   "outputs": [
    {
     "data": {
      "text/plain": [
       "10"
      ]
     },
     "execution_count": 5,
     "metadata": {},
     "output_type": "execute_result"
    }
   ],
   "source": [
    "from collections import defaultdict\n",
    "\n",
    "\n",
    "class TrieNode:\n",
    "    def __init__(self):\n",
    "        self.children = defaultdict(TrieNode)\n",
    "        self.word = False\n",
    "\n",
    "\n",
    "class Trie:\n",
    "\n",
    "    def __init__(self):\n",
    "        self.root = TrieNode()\n",
    "\n",
    "    def insert(self, word):\n",
    "        cur = self.root\n",
    "        for w in word:\n",
    "            cur = cur.children[w]\n",
    "        cur.word = True\n",
    "\n",
    "    def isTail(self, word):\n",
    "        cur = self.root\n",
    "        for w in word:\n",
    "            if w not in cur.children:\n",
    "                return False\n",
    "            cur = cur.children[w]\n",
    "        return len(cur.children) == 0\n",
    "\n",
    "\n",
    "def minimumLengthEncoding(words) -> int:\n",
    "    words = list(map(lambda s: s[::-1], set(words)))\n",
    "\n",
    "    trie = Trie()\n",
    "    for word in words:\n",
    "        trie.insert(word)\n",
    "\n",
    "    ans = 0\n",
    "    for word in words:\n",
    "        if trie.isTail(word):\n",
    "            ans += len(word) + 1\n",
    "    return ans\n",
    "\n",
    "minimumLengthEncoding(words = [\"time\", \"me\", \"bell\"])"
   ]
  },
  {
   "cell_type": "code",
   "execution_count": null,
   "metadata": {},
   "outputs": [],
   "source": []
  }
 ],
 "metadata": {
  "kernelspec": {
   "display_name": "Python 3",
   "language": "python",
   "name": "python3"
  },
  "language_info": {
   "codemirror_mode": {
    "name": "ipython",
    "version": 3
   },
   "file_extension": ".py",
   "mimetype": "text/x-python",
   "name": "python",
   "nbconvert_exporter": "python",
   "pygments_lexer": "ipython3",
   "version": "3.6.2"
  },
  "pycharm": {
   "stem_cell": {
    "cell_type": "raw",
    "metadata": {
     "collapsed": false
    },
    "source": []
   }
  }
 },
 "nbformat": 4,
 "nbformat_minor": 1
}
