{
 "cells": [
  {
   "cell_type": "markdown",
   "metadata": {
    "collapsed": true,
    "pycharm": {
     "name": "#%% md\n"
    }
   },
   "source": [
    "# 双指针\n",
    "\n",
    "- [三数之和](https://leetcode-cn.com/problems/3sum/)\n",
    "- [盛水最多的容器](https://leetcode-cn.com/problems/container-with-most-water/)\n",
    "\n",
    "## 三数之和\n",
    "先看一道简单题，三数和，给定一个包含 n 个整数的数组 nums，判断 nums 中是否存在三个元素 a，b，c ，使得 a + b + c = 0 ？找出所有满足条件且不重复的三元组。"
   ]
  },
  {
   "cell_type": "code",
   "execution_count": null,
   "outputs": [],
   "source": [
    "def threeSum(nums):\n",
    "    n = len(nums)\n",
    "    nums = sorted(nums)\n",
    "    res = []\n",
    "\n",
    "    for i in range(n - 1):\n",
    "        if nums[i] <= 0:\n",
    "            # 去重\n",
    "            if i > 0 and nums[i] == nums[i - 1]:\n",
    "                continue\n",
    "\n",
    "            # 将暴力解法的后两次循环o(n^2)换成了双指针o(n)，总时间复杂度从o(n^3) -> o(n^2)\n",
    "            left = i + 1\n",
    "            right = n - 1\n",
    "            while (right > left):\n",
    "                if nums[i] + nums[left] + nums[right] == 0:\n",
    "                    res.append([nums[i], nums[left], nums[right]])\n",
    "                    while left < right and nums[left] == nums[left + 1]:\n",
    "                        left += 1\n",
    "                    left += 1\n",
    "\n",
    "                    while left < right and nums[right] == nums[right - 1]:\n",
    "                        right -= 1\n",
    "                    right -= 1\n",
    "\n",
    "                elif nums[i] + nums[left] + nums[right] > 0:\n",
    "                    right -= 1\n",
    "                else:\n",
    "                    left += 1\n",
    "\n",
    "    return res\n",
    "\n",
    "print(threeSum([-1, 0, 1, 2, -1, -4]))"
   ],
   "metadata": {
    "collapsed": false,
    "pycharm": {
     "name": "#%%\n"
    }
   }
  },
  {
   "cell_type": "markdown",
   "source": [
    "## 盛水最多的容器"
   ],
   "metadata": {
    "collapsed": false,
    "pycharm": {
     "name": "#%% md\n"
    }
   }
  },
  {
   "cell_type": "code",
   "execution_count": 1,
   "outputs": [
    {
     "name": "stdout",
     "text": [
      "49\n"
     ],
     "output_type": "stream"
    }
   ],
   "source": [
    "def maxArea(height) -> int:\n",
    "    max_area = 0\n",
    "    left = 0\n",
    "    right = len(height) - 1\n",
    "\n",
    "    while left < right:\n",
    "        cur_area = (right - left) * min(height[left], height[right])\n",
    "        if cur_area > max_area:\n",
    "            max_area = cur_area\n",
    "\n",
    "        if height[left] <= height[right]:\n",
    "            left += 1\n",
    "        elif height[right] < height[left]:\n",
    "            right -= 1\n",
    "    return max_area\n",
    "\n",
    "\n",
    "print(maxArea([1, 8, 6, 2, 5, 4, 8, 3, 7]))\n"
   ],
   "metadata": {
    "collapsed": false,
    "pycharm": {
     "name": "#%%\n",
     "is_executing": false
    }
   }
  }
 ],
 "metadata": {
  "kernelspec": {
   "display_name": "Python 3",
   "language": "python",
   "name": "python3"
  },
  "language_info": {
   "codemirror_mode": {
    "name": "ipython",
    "version": 2
   },
   "file_extension": ".py",
   "mimetype": "text/x-python",
   "name": "python",
   "nbconvert_exporter": "python",
   "pygments_lexer": "ipython2",
   "version": "2.7.6"
  },
  "pycharm": {
   "stem_cell": {
    "cell_type": "raw",
    "source": [],
    "metadata": {
     "collapsed": false
    }
   }
  }
 },
 "nbformat": 4,
 "nbformat_minor": 0
}