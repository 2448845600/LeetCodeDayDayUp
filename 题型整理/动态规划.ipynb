{
 "cells": [
  {
   "cell_type": "markdown",
   "metadata": {
    "collapsed": true,
    "pycharm": {
     "is_executing": false,
     "name": "#%% md\n"
    }
   },
   "source": [
    "# 动态规划\n",
    "\n",
    "动态规划解题分三步：\n",
    "1. 找出状态转移方程\n",
    "2. 初始化数组\n",
    "3. 更新数组\n",
    "\n",
    "今天总结一些经典的题目：\n",
    "- [最大子序和](https://leetcode-cn.com/problems/maximum-subarray/)\n",
    "- [买卖股票的最佳时机IV](https://leetcode-cn.com/problems/best-time-to-buy-and-sell-stock-iv/)"
   ]
  },
  {
   "cell_type": "markdown",
   "metadata": {},
   "source": [
    "## 最大子序和\n",
    "转移方程: $dp[i] = max(dp[i - 1], 0) + nums[i]$\n",
    "\n",
    "dp[i]代表前一个值和 0 的最大值加上 nums[i]的值，$\\max dp_{i}$就是最大子序和\n",
    "\n",
    "先实现一个版本，时间复杂度O(n)，空间复杂度O(n)"
   ]
  },
  {
   "cell_type": "code",
   "execution_count": 3,
   "metadata": {
    "pycharm": {
     "name": "#%%\n"
    }
   },
   "outputs": [
    {
     "name": "stdout",
     "output_type": "stream",
     "text": [
      "6\n"
     ]
    }
   ],
   "source": [
    "class Solution:\n",
    "    def maxSubArray(self, nums) -> int:\n",
    "        n = len(nums)\n",
    "        dp = [0 for _ in range(n)]\n",
    "        \n",
    "        # 初始化，数组中第一个元素的最大和就是第一个元素值\n",
    "        dp[0] = nums[0]\n",
    "        ans = nums[0]\n",
    "\n",
    "        # 状态转移：dp[i] = max(dp[i - 1], 0) + nums[i]\n",
    "        for i in range(1, n):\n",
    "            dp[i] = max(dp[i - 1], 0) + nums[i]\n",
    "            # 更新\n",
    "            ans = max(ans, dp[i]) \n",
    "        return ans\n",
    "if __name__ == '__main__':\n",
    "    s = Solution()\n",
    "    nums = [-2,1,-3,4,-1,2,1,-5,4]\n",
    "    print(s.maxSubArray(nums))"
   ]
  },
  {
   "cell_type": "markdown",
   "metadata": {
    "pycharm": {
     "name": "#%% md\n"
    }
   },
   "source": [
    "一般来说，根据状态转移方程，大概就知道时间复杂度是多少，但是，空间复杂度可以通过技巧减小。本题不需要存储之前的状态，只需要用一个单位保存上一个状态即可，空间复杂度O(1)如下："
   ]
  },
  {
   "cell_type": "code",
   "execution_count": null,
   "metadata": {
    "pycharm": {
     "name": "#%%\n"
    }
   },
   "outputs": [],
   "source": [
    "class Solution:\n",
    "    def maxSubArray(self, nums) -> int:\n",
    "        n = len(nums)\n",
    "        pre = nums[0]\n",
    "        max_res = nums[0]\n",
    "        for i in range(1, n):\n",
    "            max_res = max(max_res, pre + nums[i], nums[i])\n",
    "            pre = max(pre + nums[i], nums[i])\n",
    "        return max_res\n",
    "\n",
    "if __name__ == '__main__':\n",
    "    s = Solution()\n",
    "    nums = [-2,1,-3,4,-1,2,1,-5,4]\n",
    "    print(s.maxSubArray(nums))"
   ]
  },
  {
   "cell_type": "markdown",
   "metadata": {
    "pycharm": {
     "name": "#%% md\n"
    }
   },
   "source": [
    "## 买卖股票的最佳时机\n",
    "买卖股票是一系列题目，包括进行一次交易，进行两次交易，进行多次交易，存在“冻结期”等限制条件。一次交易与上题类似，我们先看一下两次交易，再看k次交易，再看一些限制条件。\n",
    "- [买卖股票的最佳时机](https://leetcode-cn.com/problems/best-time-to-buy-and-sell-stock/)\n",
    "- [买卖股票的最佳时机II](https://leetcode-cn.com/problems/best-time-to-buy-and-sell-stock-ii/)\n",
    "- [买卖股票的最佳时机III](https://leetcode-cn.com/problems/best-time-to-buy-and-sell-stock-iii/)\n",
    "- [买卖股票的最佳时机IV](https://leetcode-cn.com/problems/best-time-to-buy-and-sell-stock-iv/)\n",
    "- [买卖股票的最佳时机含冷冻期](https://leetcode-cn.com/problems/best-time-to-buy-and-sell-stock-with-cooldown/)\n",
    "\n",
    "### 两次交易\n",
    "**状态转移方程**\n",
    "\n",
    "由于允许最多交易2次，假如用dp[i]表示第i天的收益，那dp[i+1]能否用dp[i]表示？不能，所以一阶dp是不够的！\n",
    "\n",
    "仔细想一想，问题在于交易2次，想个法子把交易次数加到dp状态转移里面，用dp[i][k]表示第i天交易k次的收益，现在尝试着写状态转移方程，可以先思考有哪些情况,很简单，无非是无操作、买、卖三种，具体分析一下：\n",
    "1. 无操作。即dp[i][k] = dp[i-1][k]；\n",
    "2. 买。今天买股票，说明之前没有买，收益和无操作是相同的；\n",
    "3. 卖。假设手里有第j天购买的股票，今天把它卖了，即\n",
    "$$\n",
    "dp[i][k] = dp[j][k-1] + (pricses[i] - prices[j])\n",
    "$$\n",
    "\n",
    "综上：\n",
    "$$\n",
    "dp[i][k] = max(dp[i-1][k], prices[i] - prices[j] + dp[j][k-1]), j \\to (0, i)\n",
    "$$\n",
    "\n",
    "时间复杂度是$O(kn^2)$\n",
    "\n",
    "**初始化条件**\n",
    "每天的收益全部初始化为0即可"
   ]
  },
  {
   "cell_type": "code",
   "execution_count": 7,
   "metadata": {},
   "outputs": [
    {
     "name": "stdout",
     "output_type": "stream",
     "text": [
      "4\n"
     ]
    }
   ],
   "source": [
    "class Solution:\n",
    "    def maxProfit(self, prices) -> int:\n",
    "        n = len(prices)\n",
    "        if n in [0, 1]:\n",
    "            return 0\n",
    "        dp = [[0 for _ in range(3)] for _ in range(n)]\n",
    "\n",
    "        for k in range(1, 3):\n",
    "            for i in range(1, n):\n",
    "                # 一开始手滑，写成这样，是错的，并没有保存0-j的最大收益\n",
    "                # for j in range(0, i):\n",
    "                #    dp[i][k] = max(dp[i-1][k], dp[j][k-1] + prices[i] - prices[j])\n",
    "                prof = 0\n",
    "                for j in range(0, i):\n",
    "                    prof = max(prof, dp[j][k - 1] + prices[i] - prices[j])\n",
    "                dp[i][k] = max(dp[i - 1][k], prof)\n",
    "\n",
    "        return max(dp[-1][1], dp[-1][2])\n",
    "\n",
    "if __name__ == '__main__':\n",
    "    s = Solution()\n",
    "    print(s.maxProfit([1, 2, 3, 4, 5]))"
   ]
  },
  {
   "cell_type": "markdown",
   "metadata": {},
   "source": [
    "这样做，还是会超出时间限制，其实，我们只需要保存$prices[i] - prices[j] + dp[j][k-1]$的最大值，即在一次循环中保存$\\max (- prices[j] + dp[j][k-1])$，时间复杂度降到$O(kn)$\n",
    "\n",
    "这里要注意初始化条件：\n"
   ]
  },
  {
   "cell_type": "code",
   "execution_count": 9,
   "metadata": {},
   "outputs": [
    {
     "name": "stdout",
     "output_type": "stream",
     "text": [
      "4\n"
     ]
    }
   ],
   "source": [
    "class Solution:\n",
    "    def maxProfit(self, prices) -> int:\n",
    "        n = len(prices)\n",
    "        dp = [[0 for _ in range(3)] for _ in range(n)]\n",
    "\n",
    "        for k in range(1, 3):\n",
    "            prof = dp[0][k - 1] - prices[0] # 初始化条件\n",
    "            for i in range(1, n):\n",
    "                prof = max(prof, dp[i][k - 1] - prices[i])\n",
    "                dp[i][k] = max(dp[i - 1][k], prices[i] + prof)\n",
    "        return max(dp[-1][1], dp[-1][2])\n",
    "\n",
    "if __name__ == '__main__':\n",
    "    s = Solution()\n",
    "    print(s.maxProfit([1, 2, 3, 4, 5]))"
   ]
  },
  {
   "cell_type": "markdown",
   "metadata": {},
   "source": [
    "### 一般化 -- K次交易\n",
    "\n",
    "买卖K次股票是最所有题目的理论核心，参考题解，用[状态转移来实现三维DP](https://leetcode-cn.com/problems/best-time-to-buy-and-sell-stock-iv/solution/yi-ge-tong-yong-fang-fa-tuan-mie-6-dao-gu-piao-w-5/)"
   ]
  },
  {
   "cell_type": "code",
   "execution_count": null,
   "metadata": {},
   "outputs": [],
   "source": []
  }
 ],
 "metadata": {
  "kernelspec": {
   "display_name": "Python 3",
   "language": "python",
   "name": "python3"
  },
  "language_info": {
   "codemirror_mode": {
    "name": "ipython",
    "version": 3
   },
   "file_extension": ".py",
   "mimetype": "text/x-python",
   "name": "python",
   "nbconvert_exporter": "python",
   "pygments_lexer": "ipython3",
   "version": "3.6.2"
  },
  "pycharm": {
   "stem_cell": {
    "cell_type": "raw",
    "source": [],
    "metadata": {
     "collapsed": false
    }
   }
  }
 },
 "nbformat": 4,
 "nbformat_minor": 1
}