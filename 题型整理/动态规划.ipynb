{
 "cells": [
  {
   "cell_type": "markdown",
   "metadata": {
    "collapsed": true,
    "pycharm": {
     "is_executing": false,
     "name": "#%% md\n"
    }
   },
   "source": [
    "# 动态规划\n",
    "\n",
    "动态规划解题分三步：\n",
    "- 找出状态转移方程\n",
    "- 初始化数组\n",
    "- 更新数组\n",
    "\n",
    "今天总结一些经典的题目：\n",
    "- 最大子序和: https://leetcode-cn.com/problems/maximum-subarray/\n",
    "- 买卖股票的最佳时机IV: https://leetcode-cn.com/problems/best-time-to-buy-and-sell-stock-iv/\n"
   ]
  },
  {
   "cell_type": "markdown",
   "metadata": {},
   "source": [
    "## 最大子序和\n",
    "https://leetcode-cn.com/problems/maximum-subarray/\n",
    "\n",
    "转移方程:\n",
    "\n",
    "$$\n",
    "dp[i] = max(dp[i - 1], 0) + nums[i]\n",
    "$$\n",
    "\n",
    "dp[i]代表前一个值和 0 的最大值加上 nums[i]的值，$\\max dp_{i}$就是最大子序和\n",
    "\n",
    "先实现一个版本，时间复杂度O(n)，空间复杂度O(n)"
   ]
  },
  {
   "cell_type": "code",
   "execution_count": null,
   "metadata": {
    "pycharm": {
     "name": "#%%\n"
    }
   },
   "outputs": [],
   "source": [
    "class Solution:\n",
    "    def maxSubArray(self, nums) -> int:\n",
    "        n = len(nums)\n",
    "        dp = [0 for _ in range(n)]\n",
    "        \n",
    "        # 初始化，数组中第一个元素的最大和就是第一个元素值\n",
    "        dp[0] = nums[0]\n",
    "        ans = nums[0]\n",
    "\n",
    "        # 状态转移：dp[i] = max(dp[i - 1], 0) + nums[i]\n",
    "        for i in range(1, n):\n",
    "            dp[i] = max(dp[i - 1], 0) + nums[i]\n",
    "            # 更新\n",
    "            ans = max(ans, dp[i]) \n",
    "        return ans\n",
    "if __name__ == '__main__':\n",
    "    s = Solution()\n",
    "    nums = [-2,1,-3,4,-1,2,1,-5,4]\n",
    "    print(s.maxSubArray(nums))"
   ]
  },
  {
   "cell_type": "markdown",
   "metadata": {
    "pycharm": {
     "name": "#%% md\n"
    }
   },
   "source": [
    "一般来说，根据状态转移方程，大概就知道时间复杂度是多少，但是，空间复杂度可以通过技巧减小。本题不需要存储之前的状态，只需要用一个单位保存上一个状态即可，空间复杂度O(1)如下："
   ]
  },
  {
   "cell_type": "code",
   "execution_count": null,
   "metadata": {
    "pycharm": {
     "name": "#%%\n"
    }
   },
   "outputs": [],
   "source": [
    "class Solution:\n",
    "    def maxSubArray(self, nums) -> int:\n",
    "        n = len(nums)\n",
    "        pre = nums[0]\n",
    "        max_res = nums[0]\n",
    "        for i in range(1, n):\n",
    "            max_res = max(max_res, pre + nums[i], nums[i])\n",
    "            pre = max(pre + nums[i], nums[i])\n",
    "        return max_res\n",
    "\n",
    "if __name__ == '__main__':\n",
    "    s = Solution()\n",
    "    nums = [-2,1,-3,4,-1,2,1,-5,4]\n",
    "    print(s.maxSubArray(nums))"
   ]
  },
  {
   "cell_type": "markdown",
   "metadata": {
    "pycharm": {
     "name": "#%% md\n"
    }
   },
   "source": [
    "## 买卖股票的最佳时机IV\n",
    "\n",
    "买卖股票是一系列题目，IV是买卖K次股票，是最广泛的形态，其他都是变种：\n"
   ]
  }
 ],
 "metadata": {
  "kernelspec": {
   "display_name": "Python 3",
   "language": "python",
   "name": "python3"
  },
  "language_info": {
   "codemirror_mode": {
    "name": "ipython",
    "version": 3
   },
   "file_extension": ".py",
   "mimetype": "text/x-python",
   "name": "python",
   "nbconvert_exporter": "python",
   "pygments_lexer": "ipython3",
   "version": "3.7.4"
  },
  "pycharm": {
   "stem_cell": {
    "cell_type": "raw",
    "source": [],
    "metadata": {
     "collapsed": false
    }
   }
  }
 },
 "nbformat": 4,
 "nbformat_minor": 1
}