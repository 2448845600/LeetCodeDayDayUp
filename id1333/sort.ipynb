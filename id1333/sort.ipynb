{
 "cells": [
  {
   "cell_type": "code",
   "execution_count": 1,
   "metadata": {},
   "outputs": [],
   "source": [
    "a = [1,3,5,7,2,4,6,8,0]"
   ]
  },
  {
   "cell_type": "code",
   "execution_count": 2,
   "metadata": {},
   "outputs": [
    {
     "data": {
      "text/plain": [
       "[0, 1, 2, 3, 4, 5, 6, 7, 8]"
      ]
     },
     "execution_count": 2,
     "metadata": {},
     "output_type": "execute_result"
    }
   ],
   "source": [
    "sorted(a)"
   ]
  },
  {
   "cell_type": "code",
   "execution_count": 3,
   "metadata": {},
   "outputs": [
    {
     "data": {
      "text/plain": [
       "[8, 7, 6, 5, 4, 3, 2, 1, 0]"
      ]
     },
     "execution_count": 3,
     "metadata": {},
     "output_type": "execute_result"
    }
   ],
   "source": [
    "sorted(a, reverse=True)"
   ]
  },
  {
   "cell_type": "code",
   "execution_count": 4,
   "metadata": {},
   "outputs": [
    {
     "data": {
      "text/plain": [
       "[1, 3, 5, 7, 2, 4, 6, 8, 0]"
      ]
     },
     "execution_count": 4,
     "metadata": {},
     "output_type": "execute_result"
    }
   ],
   "source": [
    "a"
   ]
  },
  {
   "cell_type": "code",
   "execution_count": 5,
   "metadata": {},
   "outputs": [
    {
     "data": {
      "text/plain": [
       "[0, 1, 2, 3, 4, 5, 6, 7, 8]"
      ]
     },
     "execution_count": 5,
     "metadata": {},
     "output_type": "execute_result"
    }
   ],
   "source": [
    "a.sort()\n",
    "a"
   ]
  },
  {
   "cell_type": "code",
   "execution_count": 6,
   "metadata": {},
   "outputs": [],
   "source": [
    "b = [['c', 1, 2,5], ['b', 3,2,1], ['a', 1,2,3], ['a', 2,2,3], ['a', 3,2,3]]"
   ]
  },
  {
   "cell_type": "code",
   "execution_count": 7,
   "metadata": {},
   "outputs": [],
   "source": [
    "# 按照第一位从小到大排序"
   ]
  },
  {
   "cell_type": "code",
   "execution_count": 8,
   "metadata": {},
   "outputs": [
    {
     "data": {
      "text/plain": [
       "[['c', 1, 2, 5],\n",
       " ['a', 1, 2, 3],\n",
       " ['a', 2, 2, 3],\n",
       " ['b', 3, 2, 1],\n",
       " ['a', 3, 2, 3]]"
      ]
     },
     "execution_count": 8,
     "metadata": {},
     "output_type": "execute_result"
    }
   ],
   "source": [
    "sorted(b, key = lambda x:x[1])"
   ]
  },
  {
   "cell_type": "code",
   "execution_count": 9,
   "metadata": {},
   "outputs": [],
   "source": [
    "# 按照第一位从小到大排序，如果第一位相等的，按照第二位从小到大排序"
   ]
  },
  {
   "cell_type": "code",
   "execution_count": 10,
   "metadata": {},
   "outputs": [
    {
     "data": {
      "text/plain": [
       "[['a', 1, 2, 3],\n",
       " ['a', 2, 2, 3],\n",
       " ['a', 3, 2, 3],\n",
       " ['b', 3, 2, 1],\n",
       " ['c', 1, 2, 5]]"
      ]
     },
     "execution_count": 10,
     "metadata": {},
     "output_type": "execute_result"
    }
   ],
   "source": [
    "sorted(b, key = lambda x:(x[0], x[1]))"
   ]
  },
  {
   "cell_type": "code",
   "execution_count": 11,
   "metadata": {
    "scrolled": true
   },
   "outputs": [],
   "source": [
    "# 按照第一位从小到大排序，如果第一位相等的，按照第二位从大到小排序"
   ]
  },
  {
   "cell_type": "code",
   "execution_count": 12,
   "metadata": {},
   "outputs": [
    {
     "data": {
      "text/plain": [
       "[['a', 3, 2, 3],\n",
       " ['a', 2, 2, 3],\n",
       " ['a', 1, 2, 3],\n",
       " ['b', 3, 2, 1],\n",
       " ['c', 1, 2, 5]]"
      ]
     },
     "execution_count": 12,
     "metadata": {},
     "output_type": "execute_result"
    }
   ],
   "source": [
    "'''\n",
    "调用cmp_to_key，比较函数，其返回值表示传入的两个数的大小关系\n",
    "如果返回值 > 0，代表 a > b\n",
    "如果返回值 < 0，代表 a < b\n",
    "如果返回值 == 0，代表 a = b\n",
    "\n",
    "'''\n",
    "from functools import cmp_to_key\n",
    "def func(x, y):\n",
    "    if x[0] > y[0]:\n",
    "        return 1\n",
    "    elif x[0] < y[0]:\n",
    "        return -1\n",
    "    elif x[0] == y[0]:\n",
    "        if x[1] > y[1]:\n",
    "            return -1\n",
    "        elif x[1] < y[1]:\n",
    "            return 1\n",
    "        else:\n",
    "            return 0      \n",
    "    \n",
    "sorted(b, key=cmp_to_key(func))"
   ]
  }
 ],
 "metadata": {
  "kernelspec": {
   "display_name": "Python 3",
   "language": "python",
   "name": "python3"
  },
  "language_info": {
   "codemirror_mode": {
    "name": "ipython",
    "version": 3
   },
   "file_extension": ".py",
   "mimetype": "text/x-python",
   "name": "python",
   "nbconvert_exporter": "python",
   "pygments_lexer": "ipython3",
   "version": "3.6.2"
  }
 },
 "nbformat": 4,
 "nbformat_minor": 4
}
